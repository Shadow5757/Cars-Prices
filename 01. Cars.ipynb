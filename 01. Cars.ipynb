{
 "cells": [
  {
   "cell_type": "markdown",
   "id": "6dfed2ff",
   "metadata": {},
   "source": [
    "<center><b><span style=font-size:30px><font color='MediumBlue'><u>EDA on Cars Prices Dataset</u></b></center>"
   ]
  },
  {
   "cell_type": "markdown",
   "id": "cbdb7e8c",
   "metadata": {},
   "source": [
    " "
   ]
  },
  {
   "cell_type": "code",
   "execution_count": 139,
   "id": "40120818",
   "metadata": {},
   "outputs": [],
   "source": [
    "import numpy as np\n",
    "import pandas as pd\n",
    "import matplotlib.pyplot as plt\n",
    "import seaborn as sns\n",
    "import warnings\n",
    "warnings.filterwarnings('ignore')"
   ]
  },
  {
   "cell_type": "markdown",
   "id": "09a38ba2",
   "metadata": {},
   "source": [
    " "
   ]
  },
  {
   "cell_type": "code",
   "execution_count": 140,
   "id": "3a85680e",
   "metadata": {},
   "outputs": [],
   "source": [
    "df = pd.read_csv('cars.csv')"
   ]
  },
  {
   "cell_type": "markdown",
   "id": "8f2c192d",
   "metadata": {},
   "source": [
    " "
   ]
  },
  {
   "cell_type": "code",
   "execution_count": 141,
   "id": "16de5bc6",
   "metadata": {
    "scrolled": true
   },
   "outputs": [
    {
     "data": {
      "text/html": [
       "<div>\n",
       "<style scoped>\n",
       "    .dataframe tbody tr th:only-of-type {\n",
       "        vertical-align: middle;\n",
       "    }\n",
       "\n",
       "    .dataframe tbody tr th {\n",
       "        vertical-align: top;\n",
       "    }\n",
       "\n",
       "    .dataframe thead th {\n",
       "        text-align: right;\n",
       "    }\n",
       "</style>\n",
       "<table border=\"1\" class=\"dataframe\">\n",
       "  <thead>\n",
       "    <tr style=\"text-align: right;\">\n",
       "      <th></th>\n",
       "      <th>symboling</th>\n",
       "      <th>normalized-losses</th>\n",
       "      <th>make</th>\n",
       "      <th>fuel-type</th>\n",
       "      <th>body-style</th>\n",
       "      <th>drive-wheels</th>\n",
       "      <th>engine-location</th>\n",
       "      <th>width</th>\n",
       "      <th>height</th>\n",
       "      <th>engine-type</th>\n",
       "      <th>engine-size</th>\n",
       "      <th>horsepower</th>\n",
       "      <th>city-mpg</th>\n",
       "      <th>highway-mpg</th>\n",
       "      <th>price</th>\n",
       "    </tr>\n",
       "  </thead>\n",
       "  <tbody>\n",
       "    <tr>\n",
       "      <th>0</th>\n",
       "      <td>3</td>\n",
       "      <td>?</td>\n",
       "      <td>alfa-romero</td>\n",
       "      <td>gas</td>\n",
       "      <td>convertible</td>\n",
       "      <td>rwd</td>\n",
       "      <td>front</td>\n",
       "      <td>64.1</td>\n",
       "      <td>48.8</td>\n",
       "      <td>dohc</td>\n",
       "      <td>130</td>\n",
       "      <td>111</td>\n",
       "      <td>21</td>\n",
       "      <td>27</td>\n",
       "      <td>13495</td>\n",
       "    </tr>\n",
       "    <tr>\n",
       "      <th>1</th>\n",
       "      <td>3</td>\n",
       "      <td>?</td>\n",
       "      <td>alfa-romero</td>\n",
       "      <td>gas</td>\n",
       "      <td>convertible</td>\n",
       "      <td>rwd</td>\n",
       "      <td>front</td>\n",
       "      <td>64.1</td>\n",
       "      <td>48.8</td>\n",
       "      <td>dohc</td>\n",
       "      <td>130</td>\n",
       "      <td>111</td>\n",
       "      <td>21</td>\n",
       "      <td>27</td>\n",
       "      <td>16500</td>\n",
       "    </tr>\n",
       "    <tr>\n",
       "      <th>2</th>\n",
       "      <td>1</td>\n",
       "      <td>?</td>\n",
       "      <td>alfa-romero</td>\n",
       "      <td>gas</td>\n",
       "      <td>hatchback</td>\n",
       "      <td>rwd</td>\n",
       "      <td>front</td>\n",
       "      <td>65.5</td>\n",
       "      <td>52.4</td>\n",
       "      <td>ohcv</td>\n",
       "      <td>152</td>\n",
       "      <td>154</td>\n",
       "      <td>19</td>\n",
       "      <td>26</td>\n",
       "      <td>16500</td>\n",
       "    </tr>\n",
       "    <tr>\n",
       "      <th>3</th>\n",
       "      <td>2</td>\n",
       "      <td>164</td>\n",
       "      <td>audi</td>\n",
       "      <td>gas</td>\n",
       "      <td>sedan</td>\n",
       "      <td>fwd</td>\n",
       "      <td>front</td>\n",
       "      <td>66.2</td>\n",
       "      <td>54.3</td>\n",
       "      <td>ohc</td>\n",
       "      <td>109</td>\n",
       "      <td>102</td>\n",
       "      <td>24</td>\n",
       "      <td>30</td>\n",
       "      <td>13950</td>\n",
       "    </tr>\n",
       "    <tr>\n",
       "      <th>4</th>\n",
       "      <td>2</td>\n",
       "      <td>164</td>\n",
       "      <td>audi</td>\n",
       "      <td>gas</td>\n",
       "      <td>sedan</td>\n",
       "      <td>4wd</td>\n",
       "      <td>front</td>\n",
       "      <td>66.4</td>\n",
       "      <td>54.3</td>\n",
       "      <td>ohc</td>\n",
       "      <td>136</td>\n",
       "      <td>115</td>\n",
       "      <td>18</td>\n",
       "      <td>22</td>\n",
       "      <td>17450</td>\n",
       "    </tr>\n",
       "  </tbody>\n",
       "</table>\n",
       "</div>"
      ],
      "text/plain": [
       "   symboling normalized-losses         make fuel-type   body-style  \\\n",
       "0          3                 ?  alfa-romero       gas  convertible   \n",
       "1          3                 ?  alfa-romero       gas  convertible   \n",
       "2          1                 ?  alfa-romero       gas    hatchback   \n",
       "3          2               164         audi       gas        sedan   \n",
       "4          2               164         audi       gas        sedan   \n",
       "\n",
       "  drive-wheels engine-location  width  height engine-type  engine-size  \\\n",
       "0          rwd           front   64.1    48.8        dohc          130   \n",
       "1          rwd           front   64.1    48.8        dohc          130   \n",
       "2          rwd           front   65.5    52.4        ohcv          152   \n",
       "3          fwd           front   66.2    54.3         ohc          109   \n",
       "4          4wd           front   66.4    54.3         ohc          136   \n",
       "\n",
       "  horsepower  city-mpg  highway-mpg  price  \n",
       "0        111        21           27  13495  \n",
       "1        111        21           27  16500  \n",
       "2        154        19           26  16500  \n",
       "3        102        24           30  13950  \n",
       "4        115        18           22  17450  "
      ]
     },
     "execution_count": 141,
     "metadata": {},
     "output_type": "execute_result"
    }
   ],
   "source": [
    "# First 5 Records\n",
    "\n",
    "df.head()"
   ]
  },
  {
   "cell_type": "markdown",
   "id": "681f162a",
   "metadata": {},
   "source": [
    " "
   ]
  },
  {
   "cell_type": "markdown",
   "id": "06f1b6e0",
   "metadata": {},
   "source": [
    " "
   ]
  },
  {
   "cell_type": "markdown",
   "id": "420214f3",
   "metadata": {},
   "source": [
    "<b><span style=font-size:20px><font color='MediumBlue'><u>Exploratory data analysis (EDA) Steps</u></font></span></b>\n",
    "<span style=font-size:15px><br><b>1.</b> Check Null values<br><b>2.</b> Handle Outliers<br><b>3.</b> Handling Categorical Data<br><b>4.</b> Handling skewness on contienous numerical value<br><b>5.</b> Feature Engineering<br><b>6.</b> Scaling</span>"
   ]
  },
  {
   "cell_type": "markdown",
   "id": "47f4f0e4",
   "metadata": {},
   "source": [
    " "
   ]
  },
  {
   "cell_type": "markdown",
   "id": "2c60fa11",
   "metadata": {},
   "source": [
    "<b><span style=font-size:20px><font color='MediumBlue'><u>Step 1: Check Null Values</u></font></span></b>\n",
    "<span style=font-size:15px><br><b>1.</b> Check Non Numeric column in the dataset<br><b>2.</b> Convert the Non Numeric value to NAN <b>(np.replace)</b><br><b>3.</b> Convert NAN to float value <b>(.astype)</b><br><b>4.</b> Check the NULL VALUE Percentage, It should be less than 50% to make necessary changes<br><b>5.</b> Find the mean of the column <b>(.mean)</b><br><b>6.</b> Fill the NAN value with the mean value <b>(.fillna)</b>"
   ]
  },
  {
   "cell_type": "markdown",
   "id": "606ef170",
   "metadata": {},
   "source": [
    " "
   ]
  },
  {
   "cell_type": "code",
   "execution_count": 142,
   "id": "c841f74a",
   "metadata": {
    "scrolled": true
   },
   "outputs": [
    {
     "data": {
      "text/plain": [
       "symboling            0\n",
       "normalized-losses    0\n",
       "make                 0\n",
       "fuel-type            0\n",
       "body-style           0\n",
       "drive-wheels         0\n",
       "engine-location      0\n",
       "width                0\n",
       "height               0\n",
       "engine-type          0\n",
       "engine-size          0\n",
       "horsepower           0\n",
       "city-mpg             0\n",
       "highway-mpg          0\n",
       "price                0\n",
       "dtype: int64"
      ]
     },
     "execution_count": 142,
     "metadata": {},
     "output_type": "execute_result"
    }
   ],
   "source": [
    "df.isnull().sum()"
   ]
  },
  {
   "cell_type": "markdown",
   "id": "dfef4eb0",
   "metadata": {},
   "source": [
    " "
   ]
  },
  {
   "cell_type": "code",
   "execution_count": 143,
   "id": "205df5e2",
   "metadata": {},
   "outputs": [
    {
     "data": {
      "image/png": "[encoded data removed]",
      "text/plain": [
       "<Figure size 720x360 with 2 Axes>"
      ]
     },
     "metadata": {
      "needs_background": "light"
     },
     "output_type": "display_data"
    }
   ],
   "source": [
    "plt.figure(figsize=(10,5))\n",
    "sns.heatmap(df.isnull())\n",
    "plt.title('Normalized-losses Null Value Heat Map',fontsize=20,color='Black')\n",
    "plt.show()"
   ]
  },
  {
   "cell_type": "markdown",
   "id": "f7463d35",
   "metadata": {},
   "source": [
    " "
   ]
  },
  {
   "cell_type": "code",
   "execution_count": 144,
   "id": "d6deaff4",
   "metadata": {},
   "outputs": [
    {
     "data": {
      "text/html": [
       "<div>\n",
       "<style scoped>\n",
       "    .dataframe tbody tr th:only-of-type {\n",
       "        vertical-align: middle;\n",
       "    }\n",
       "\n",
       "    .dataframe tbody tr th {\n",
       "        vertical-align: top;\n",
       "    }\n",
       "\n",
       "    .dataframe thead th {\n",
       "        text-align: right;\n",
       "    }\n",
       "</style>\n",
       "<table border=\"1\" class=\"dataframe\">\n",
       "  <thead>\n",
       "    <tr style=\"text-align: right;\">\n",
       "      <th></th>\n",
       "      <th>symboling</th>\n",
       "      <th>normalized-losses</th>\n",
       "      <th>make</th>\n",
       "      <th>fuel-type</th>\n",
       "      <th>body-style</th>\n",
       "      <th>drive-wheels</th>\n",
       "      <th>engine-location</th>\n",
       "      <th>width</th>\n",
       "      <th>height</th>\n",
       "      <th>engine-type</th>\n",
       "      <th>engine-size</th>\n",
       "      <th>horsepower</th>\n",
       "      <th>city-mpg</th>\n",
       "      <th>highway-mpg</th>\n",
       "      <th>price</th>\n",
       "    </tr>\n",
       "  </thead>\n",
       "  <tbody>\n",
       "    <tr>\n",
       "      <th>0</th>\n",
       "      <td>3</td>\n",
       "      <td>?</td>\n",
       "      <td>alfa-romero</td>\n",
       "      <td>gas</td>\n",
       "      <td>convertible</td>\n",
       "      <td>rwd</td>\n",
       "      <td>front</td>\n",
       "      <td>64.1</td>\n",
       "      <td>48.8</td>\n",
       "      <td>dohc</td>\n",
       "      <td>130</td>\n",
       "      <td>111</td>\n",
       "      <td>21</td>\n",
       "      <td>27</td>\n",
       "      <td>13495</td>\n",
       "    </tr>\n",
       "    <tr>\n",
       "      <th>1</th>\n",
       "      <td>3</td>\n",
       "      <td>?</td>\n",
       "      <td>alfa-romero</td>\n",
       "      <td>gas</td>\n",
       "      <td>convertible</td>\n",
       "      <td>rwd</td>\n",
       "      <td>front</td>\n",
       "      <td>64.1</td>\n",
       "      <td>48.8</td>\n",
       "      <td>dohc</td>\n",
       "      <td>130</td>\n",
       "      <td>111</td>\n",
       "      <td>21</td>\n",
       "      <td>27</td>\n",
       "      <td>16500</td>\n",
       "    </tr>\n",
       "    <tr>\n",
       "      <th>2</th>\n",
       "      <td>1</td>\n",
       "      <td>?</td>\n",
       "      <td>alfa-romero</td>\n",
       "      <td>gas</td>\n",
       "      <td>hatchback</td>\n",
       "      <td>rwd</td>\n",
       "      <td>front</td>\n",
       "      <td>65.5</td>\n",
       "      <td>52.4</td>\n",
       "      <td>ohcv</td>\n",
       "      <td>152</td>\n",
       "      <td>154</td>\n",
       "      <td>19</td>\n",
       "      <td>26</td>\n",
       "      <td>16500</td>\n",
       "    </tr>\n",
       "    <tr>\n",
       "      <th>3</th>\n",
       "      <td>2</td>\n",
       "      <td>164</td>\n",
       "      <td>audi</td>\n",
       "      <td>gas</td>\n",
       "      <td>sedan</td>\n",
       "      <td>fwd</td>\n",
       "      <td>front</td>\n",
       "      <td>66.2</td>\n",
       "      <td>54.3</td>\n",
       "      <td>ohc</td>\n",
       "      <td>109</td>\n",
       "      <td>102</td>\n",
       "      <td>24</td>\n",
       "      <td>30</td>\n",
       "      <td>13950</td>\n",
       "    </tr>\n",
       "    <tr>\n",
       "      <th>4</th>\n",
       "      <td>2</td>\n",
       "      <td>164</td>\n",
       "      <td>audi</td>\n",
       "      <td>gas</td>\n",
       "      <td>sedan</td>\n",
       "      <td>4wd</td>\n",
       "      <td>front</td>\n",
       "      <td>66.4</td>\n",
       "      <td>54.3</td>\n",
       "      <td>ohc</td>\n",
       "      <td>136</td>\n",
       "      <td>115</td>\n",
       "      <td>18</td>\n",
       "      <td>22</td>\n",
       "      <td>17450</td>\n",
       "    </tr>\n",
       "  </tbody>\n",
       "</table>\n",
       "</div>"
      ],
      "text/plain": [
       "   symboling normalized-losses         make fuel-type   body-style  \\\n",
       "0          3                 ?  alfa-romero       gas  convertible   \n",
       "1          3                 ?  alfa-romero       gas  convertible   \n",
       "2          1                 ?  alfa-romero       gas    hatchback   \n",
       "3          2               164         audi       gas        sedan   \n",
       "4          2               164         audi       gas        sedan   \n",
       "\n",
       "  drive-wheels engine-location  width  height engine-type  engine-size  \\\n",
       "0          rwd           front   64.1    48.8        dohc          130   \n",
       "1          rwd           front   64.1    48.8        dohc          130   \n",
       "2          rwd           front   65.5    52.4        ohcv          152   \n",
       "3          fwd           front   66.2    54.3         ohc          109   \n",
       "4          4wd           front   66.4    54.3         ohc          136   \n",
       "\n",
       "  horsepower  city-mpg  highway-mpg  price  \n",
       "0        111        21           27  13495  \n",
       "1        111        21           27  16500  \n",
       "2        154        19           26  16500  \n",
       "3        102        24           30  13950  \n",
       "4        115        18           22  17450  "
      ]
     },
     "execution_count": 144,
     "metadata": {},
     "output_type": "execute_result"
    }
   ],
   "source": [
    "df.head()"
   ]
  },
  {
   "cell_type": "markdown",
   "id": "ef096988",
   "metadata": {},
   "source": [
    " "
   ]
  },
  {
   "cell_type": "code",
   "execution_count": 145,
   "id": "fb019b0f",
   "metadata": {
    "scrolled": true
   },
   "outputs": [
    {
     "data": {
      "text/html": [
       "<div>\n",
       "<style scoped>\n",
       "    .dataframe tbody tr th:only-of-type {\n",
       "        vertical-align: middle;\n",
       "    }\n",
       "\n",
       "    .dataframe tbody tr th {\n",
       "        vertical-align: top;\n",
       "    }\n",
       "\n",
       "    .dataframe thead th {\n",
       "        text-align: right;\n",
       "    }\n",
       "</style>\n",
       "<table border=\"1\" class=\"dataframe\">\n",
       "  <thead>\n",
       "    <tr style=\"text-align: right;\">\n",
       "      <th></th>\n",
       "      <th>symboling</th>\n",
       "      <th>normalized-losses</th>\n",
       "      <th>make</th>\n",
       "      <th>fuel-type</th>\n",
       "      <th>body-style</th>\n",
       "      <th>drive-wheels</th>\n",
       "      <th>engine-location</th>\n",
       "      <th>width</th>\n",
       "      <th>height</th>\n",
       "      <th>engine-type</th>\n",
       "      <th>engine-size</th>\n",
       "      <th>horsepower</th>\n",
       "      <th>city-mpg</th>\n",
       "      <th>highway-mpg</th>\n",
       "      <th>price</th>\n",
       "    </tr>\n",
       "  </thead>\n",
       "  <tbody>\n",
       "    <tr>\n",
       "      <th>200</th>\n",
       "      <td>-1</td>\n",
       "      <td>95</td>\n",
       "      <td>volvo</td>\n",
       "      <td>gas</td>\n",
       "      <td>sedan</td>\n",
       "      <td>rwd</td>\n",
       "      <td>front</td>\n",
       "      <td>68.9</td>\n",
       "      <td>55.5</td>\n",
       "      <td>ohc</td>\n",
       "      <td>141</td>\n",
       "      <td>114</td>\n",
       "      <td>23</td>\n",
       "      <td>28</td>\n",
       "      <td>16845</td>\n",
       "    </tr>\n",
       "    <tr>\n",
       "      <th>201</th>\n",
       "      <td>-1</td>\n",
       "      <td>95</td>\n",
       "      <td>volvo</td>\n",
       "      <td>gas</td>\n",
       "      <td>sedan</td>\n",
       "      <td>rwd</td>\n",
       "      <td>front</td>\n",
       "      <td>68.8</td>\n",
       "      <td>55.5</td>\n",
       "      <td>ohc</td>\n",
       "      <td>141</td>\n",
       "      <td>160</td>\n",
       "      <td>19</td>\n",
       "      <td>25</td>\n",
       "      <td>19045</td>\n",
       "    </tr>\n",
       "    <tr>\n",
       "      <th>202</th>\n",
       "      <td>-1</td>\n",
       "      <td>95</td>\n",
       "      <td>volvo</td>\n",
       "      <td>gas</td>\n",
       "      <td>sedan</td>\n",
       "      <td>rwd</td>\n",
       "      <td>front</td>\n",
       "      <td>68.9</td>\n",
       "      <td>55.5</td>\n",
       "      <td>ohcv</td>\n",
       "      <td>173</td>\n",
       "      <td>134</td>\n",
       "      <td>18</td>\n",
       "      <td>23</td>\n",
       "      <td>21485</td>\n",
       "    </tr>\n",
       "    <tr>\n",
       "      <th>203</th>\n",
       "      <td>-1</td>\n",
       "      <td>95</td>\n",
       "      <td>volvo</td>\n",
       "      <td>diesel</td>\n",
       "      <td>sedan</td>\n",
       "      <td>rwd</td>\n",
       "      <td>front</td>\n",
       "      <td>68.9</td>\n",
       "      <td>55.5</td>\n",
       "      <td>ohc</td>\n",
       "      <td>145</td>\n",
       "      <td>106</td>\n",
       "      <td>26</td>\n",
       "      <td>27</td>\n",
       "      <td>22470</td>\n",
       "    </tr>\n",
       "    <tr>\n",
       "      <th>204</th>\n",
       "      <td>-1</td>\n",
       "      <td>95</td>\n",
       "      <td>volvo</td>\n",
       "      <td>gas</td>\n",
       "      <td>sedan</td>\n",
       "      <td>rwd</td>\n",
       "      <td>front</td>\n",
       "      <td>68.9</td>\n",
       "      <td>55.5</td>\n",
       "      <td>ohc</td>\n",
       "      <td>141</td>\n",
       "      <td>114</td>\n",
       "      <td>19</td>\n",
       "      <td>25</td>\n",
       "      <td>22625</td>\n",
       "    </tr>\n",
       "  </tbody>\n",
       "</table>\n",
       "</div>"
      ],
      "text/plain": [
       "     symboling normalized-losses   make fuel-type body-style drive-wheels  \\\n",
       "200         -1                95  volvo       gas      sedan          rwd   \n",
       "201         -1                95  volvo       gas      sedan          rwd   \n",
       "202         -1                95  volvo       gas      sedan          rwd   \n",
       "203         -1                95  volvo    diesel      sedan          rwd   \n",
       "204         -1                95  volvo       gas      sedan          rwd   \n",
       "\n",
       "    engine-location  width  height engine-type  engine-size horsepower  \\\n",
       "200           front   68.9    55.5         ohc          141        114   \n",
       "201           front   68.8    55.5         ohc          141        160   \n",
       "202           front   68.9    55.5        ohcv          173        134   \n",
       "203           front   68.9    55.5         ohc          145        106   \n",
       "204           front   68.9    55.5         ohc          141        114   \n",
       "\n",
       "     city-mpg  highway-mpg  price  \n",
       "200        23           28  16845  \n",
       "201        19           25  19045  \n",
       "202        18           23  21485  \n",
       "203        26           27  22470  \n",
       "204        19           25  22625  "
      ]
     },
     "execution_count": 145,
     "metadata": {},
     "output_type": "execute_result"
    }
   ],
   "source": [
    "df.tail()"
   ]
  },
  {
   "cell_type": "markdown",
   "id": "f8a0a28f",
   "metadata": {},
   "source": [
    " "
   ]
  },
  {
   "cell_type": "code",
   "execution_count": 146,
   "id": "a17f2246",
   "metadata": {
    "scrolled": false
   },
   "outputs": [
    {
     "data": {
      "text/plain": [
       "symboling              int64\n",
       "normalized-losses     object\n",
       "make                  object\n",
       "fuel-type             object\n",
       "body-style            object\n",
       "drive-wheels          object\n",
       "engine-location       object\n",
       "width                float64\n",
       "height               float64\n",
       "engine-type           object\n",
       "engine-size            int64\n",
       "horsepower            object\n",
       "city-mpg               int64\n",
       "highway-mpg            int64\n",
       "price                  int64\n",
       "dtype: object"
      ]
     },
     "execution_count": 146,
     "metadata": {},
     "output_type": "execute_result"
    }
   ],
   "source": [
    "df.dtypes"
   ]
  },
  {
   "cell_type": "markdown",
   "id": "ed50b5d0",
   "metadata": {},
   "source": [
    " "
   ]
  },
  {
   "cell_type": "code",
   "execution_count": 147,
   "id": "8a9eb92d",
   "metadata": {
    "scrolled": true
   },
   "outputs": [
    {
     "data": {
      "text/plain": [
       "(205, 15)"
      ]
     },
     "execution_count": 147,
     "metadata": {},
     "output_type": "execute_result"
    }
   ],
   "source": [
    "# Rows: 205  $  Columns: 15\n",
    "\n",
    "df.shape"
   ]
  },
  {
   "cell_type": "markdown",
   "id": "96ee7e06",
   "metadata": {},
   "source": [
    " "
   ]
  },
  {
   "cell_type": "markdown",
   "id": "cdc2a544",
   "metadata": {},
   "source": [
    "<b><span style=font-size:20px><font color='OrangeRed'>Step 1: Check Non Numeric column in the dataset</font></span></b>"
   ]
  },
  {
   "cell_type": "markdown",
   "id": "76c5cb66",
   "metadata": {},
   "source": [
    "<b>-</b> Here It Shows There <b>41 Special Characters.</b>"
   ]
  },
  {
   "cell_type": "code",
   "execution_count": 1,
   "id": "a6cab4c8",
   "metadata": {
    "scrolled": true
   },
   "outputs": [
    {
     "ename": "NameError",
     "evalue": "name 'df' is not defined",
     "output_type": "error",
     "traceback": [
      "\u001b[1;31m---------------------------------------------------------------------------\u001b[0m",
      "\u001b[1;31mNameError\u001b[0m                                 Traceback (most recent call last)",
      "\u001b[1;32m~\\AppData\\Local\\Temp/ipykernel_14460/3383199840.py\u001b[0m in \u001b[0;36m<module>\u001b[1;34m\u001b[0m\n\u001b[0;32m      1\u001b[0m \u001b[0mc\u001b[0m \u001b[1;33m=\u001b[0m \u001b[1;36m0\u001b[0m\u001b[1;33m\u001b[0m\u001b[1;33m\u001b[0m\u001b[0m\n\u001b[1;32m----> 2\u001b[1;33m \u001b[1;32mfor\u001b[0m \u001b[0mi\u001b[0m\u001b[1;33m,\u001b[0m\u001b[0mdata\u001b[0m \u001b[1;32min\u001b[0m \u001b[0menumerate\u001b[0m\u001b[1;33m(\u001b[0m\u001b[0mdf\u001b[0m\u001b[1;33m[\u001b[0m\u001b[1;34m'normalized-losses'\u001b[0m\u001b[1;33m]\u001b[0m\u001b[1;33m)\u001b[0m\u001b[1;33m:\u001b[0m\u001b[1;33m\u001b[0m\u001b[1;33m\u001b[0m\u001b[0m\n\u001b[0m\u001b[0;32m      3\u001b[0m     \u001b[1;32mif\u001b[0m \u001b[1;32mnot\u001b[0m \u001b[0mdata\u001b[0m\u001b[1;33m.\u001b[0m\u001b[0misalnum\u001b[0m\u001b[1;33m(\u001b[0m\u001b[1;33m)\u001b[0m\u001b[1;33m:\u001b[0m\u001b[1;33m\u001b[0m\u001b[1;33m\u001b[0m\u001b[0m\n\u001b[0;32m      4\u001b[0m         \u001b[0mc\u001b[0m \u001b[1;33m=\u001b[0m \u001b[0mc\u001b[0m \u001b[1;33m+\u001b[0m \u001b[1;36m1\u001b[0m\u001b[1;33m\u001b[0m\u001b[1;33m\u001b[0m\u001b[0m\n\u001b[0;32m      5\u001b[0m         \u001b[0mprint\u001b[0m\u001b[1;33m(\u001b[0m\u001b[0mi\u001b[0m\u001b[1;33m,\u001b[0m\u001b[1;34m\" \"\u001b[0m\u001b[1;33m,\u001b[0m\u001b[0mdata\u001b[0m\u001b[1;33m)\u001b[0m\u001b[1;33m\u001b[0m\u001b[1;33m\u001b[0m\u001b[0m\n",
      "\u001b[1;31mNameError\u001b[0m: name 'df' is not defined"
     ]
    }
   ],
   "source": [
    "c = 0\n",
    "for i,data in enumerate(df['normalized-losses']):\n",
    "    if not data.isnumeric():\n",
    "        c = c + 1\n",
    "        print(i,\" \",data)\n",
    "print('No. of Special Character: ',c)"
   ]
  },
  {
   "cell_type": "markdown",
   "id": "60cc7130",
   "metadata": {},
   "source": [
    " "
   ]
  },
  {
   "cell_type": "markdown",
   "id": "d74b43ed",
   "metadata": {},
   "source": [
    "<b><span style=font-size:20px><font color='OrangeRed'>Step 2: Convert the Non Numeric value to NAN (.replace)</font></span></b>"
   ]
  },
  {
   "cell_type": "markdown",
   "id": "9fce9edf",
   "metadata": {},
   "source": [
    "<b>-</b> Converting all <b>?</b> into <b>NAN</b> i.e. np.nan.</b>"
   ]
  },
  {
   "cell_type": "code",
   "execution_count": 149,
   "id": "c81a5632",
   "metadata": {},
   "outputs": [],
   "source": [
    "# Replacing '?' in normalized-losses Column with null values permanently\n",
    "\n",
    "df['normalized-losses'].replace('?',np.nan,inplace=True)"
   ]
  },
  {
   "cell_type": "markdown",
   "id": "182f4a3e",
   "metadata": {},
   "source": [
    " "
   ]
  },
  {
   "cell_type": "code",
   "execution_count": 150,
   "id": "42b6eb64",
   "metadata": {
    "scrolled": true
   },
   "outputs": [
    {
     "data": {
      "text/plain": [
       "symboling             0\n",
       "normalized-losses    41\n",
       "make                  0\n",
       "fuel-type             0\n",
       "body-style            0\n",
       "drive-wheels          0\n",
       "engine-location       0\n",
       "width                 0\n",
       "height                0\n",
       "engine-type           0\n",
       "engine-size           0\n",
       "horsepower            0\n",
       "city-mpg              0\n",
       "highway-mpg           0\n",
       "price                 0\n",
       "dtype: int64"
      ]
     },
     "execution_count": 150,
     "metadata": {},
     "output_type": "execute_result"
    }
   ],
   "source": [
    "df.isnull().sum()"
   ]
  },
  {
   "cell_type": "markdown",
   "id": "640ae8da",
   "metadata": {},
   "source": [
    " "
   ]
  },
  {
   "cell_type": "code",
   "execution_count": 151,
   "id": "c3753c9a",
   "metadata": {
    "scrolled": false
   },
   "outputs": [
    {
     "data": {
      "image/png": "[encoded data removed]",
      "text/plain": [
       "<Figure size 720x360 with 2 Axes>"
      ]
     },
     "metadata": {
      "needs_background": "light"
     },
     "output_type": "display_data"
    }
   ],
   "source": [
    "plt.figure(figsize=(10,5))\n",
    "sns.heatmap(df.isnull())\n",
    "plt.show()"
   ]
  },
  {
   "cell_type": "markdown",
   "id": "9559bd95",
   "metadata": {},
   "source": [
    " "
   ]
  },
  {
   "cell_type": "code",
   "execution_count": 152,
   "id": "b4e16544",
   "metadata": {
    "scrolled": true
   },
   "outputs": [
    {
     "data": {
      "text/plain": [
       "symboling              int64\n",
       "normalized-losses     object\n",
       "make                  object\n",
       "fuel-type             object\n",
       "body-style            object\n",
       "drive-wheels          object\n",
       "engine-location       object\n",
       "width                float64\n",
       "height               float64\n",
       "engine-type           object\n",
       "engine-size            int64\n",
       "horsepower            object\n",
       "city-mpg               int64\n",
       "highway-mpg            int64\n",
       "price                  int64\n",
       "dtype: object"
      ]
     },
     "execution_count": 152,
     "metadata": {},
     "output_type": "execute_result"
    }
   ],
   "source": [
    "df.dtypes"
   ]
  },
  {
   "cell_type": "markdown",
   "id": "c2e4fcbb",
   "metadata": {},
   "source": [
    " "
   ]
  },
  {
   "cell_type": "markdown",
   "id": "5f3e5185",
   "metadata": {},
   "source": [
    "<b><span style=font-size:20px><font color='OrangeRed'>Step 3: Convert NAN to float value (.astype)</font></span></b>"
   ]
  },
  {
   "cell_type": "markdown",
   "id": "6fcd3643",
   "metadata": {},
   "source": [
    "<b>-</b> Converting <b>nomalized-losses</b> into <b>float data type.</b>"
   ]
  },
  {
   "cell_type": "code",
   "execution_count": 153,
   "id": "bc093d5d",
   "metadata": {},
   "outputs": [],
   "source": [
    "# Changing 'normalizes-losses' column from 'object' to 'float64'\n",
    "\n",
    "df['normalized-losses'] = df['normalized-losses'].astype('float')"
   ]
  },
  {
   "cell_type": "markdown",
   "id": "73e88a9a",
   "metadata": {},
   "source": [
    " "
   ]
  },
  {
   "cell_type": "code",
   "execution_count": 154,
   "id": "1417db33",
   "metadata": {
    "scrolled": true
   },
   "outputs": [
    {
     "data": {
      "text/plain": [
       "symboling              int64\n",
       "normalized-losses    float64\n",
       "make                  object\n",
       "fuel-type             object\n",
       "body-style            object\n",
       "drive-wheels          object\n",
       "engine-location       object\n",
       "width                float64\n",
       "height               float64\n",
       "engine-type           object\n",
       "engine-size            int64\n",
       "horsepower            object\n",
       "city-mpg               int64\n",
       "highway-mpg            int64\n",
       "price                  int64\n",
       "dtype: object"
      ]
     },
     "execution_count": 154,
     "metadata": {},
     "output_type": "execute_result"
    }
   ],
   "source": [
    "df.dtypes"
   ]
  },
  {
   "cell_type": "markdown",
   "id": "2565ed21",
   "metadata": {},
   "source": [
    " "
   ]
  },
  {
   "cell_type": "markdown",
   "id": "ea9951a8",
   "metadata": {},
   "source": [
    "<b><span style=font-size:20px><font color='OrangeRed'>Step 4: Check the NULL VALUE Percentage</font></span></b>"
   ]
  },
  {
   "cell_type": "markdown",
   "id": "88699ce0",
   "metadata": {},
   "source": [
    "<b>- Null Value Percentage</b> should be <b> < 50% </b><br>\n",
    "<b>-</b> If <b>yes</b> Then only perform <b>Step-5</b>"
   ]
  },
  {
   "cell_type": "code",
   "execution_count": 155,
   "id": "cd0feb83",
   "metadata": {},
   "outputs": [
    {
     "data": {
      "text/plain": [
       "20.0"
      ]
     },
     "execution_count": 155,
     "metadata": {},
     "output_type": "execute_result"
    }
   ],
   "source": [
    "# check % of null values for normalized-losses column\n",
    "\n",
    "df['normalized-losses'].isnull().sum()*100/df.shape[0]"
   ]
  },
  {
   "cell_type": "markdown",
   "id": "12154f44",
   "metadata": {},
   "source": [
    "  "
   ]
  },
  {
   "cell_type": "markdown",
   "id": "9876d41a",
   "metadata": {},
   "source": [
    "<b><span style=font-size:20px><font color='OrangeRed'>Step 5: Find the mean of the column (.mean)</font></span></b>"
   ]
  },
  {
   "cell_type": "code",
   "execution_count": 156,
   "id": "c6c5bff5",
   "metadata": {
    "scrolled": true
   },
   "outputs": [
    {
     "data": {
      "text/plain": [
       "122.0"
      ]
     },
     "execution_count": 156,
     "metadata": {},
     "output_type": "execute_result"
    }
   ],
   "source": [
    "# Filling null values with average/mean of normalized-losses column\n",
    "\n",
    "m = df['normalized-losses'].mean()\n",
    "m"
   ]
  },
  {
   "cell_type": "markdown",
   "id": "053c5c95",
   "metadata": {},
   "source": [
    " "
   ]
  },
  {
   "cell_type": "markdown",
   "id": "08fefbfe",
   "metadata": {},
   "source": [
    "<b><span style=font-size:20px><font color='OrangeRed'>Step 6: Fill the NAN value with the mean value (.fillna)</font></span></b>"
   ]
  },
  {
   "cell_type": "markdown",
   "id": "bc1981ef",
   "metadata": {},
   "source": [
    "<b>- Filling Null Values</b>  with the <b>mean of nomalized-losses column.</b>"
   ]
  },
  {
   "cell_type": "code",
   "execution_count": 157,
   "id": "3967b1dd",
   "metadata": {},
   "outputs": [],
   "source": [
    "df['normalized-losses'].fillna(m,inplace=True)"
   ]
  },
  {
   "cell_type": "markdown",
   "id": "d62083a0",
   "metadata": {},
   "source": [
    " "
   ]
  },
  {
   "cell_type": "code",
   "execution_count": 158,
   "id": "c7a70a59",
   "metadata": {
    "scrolled": true
   },
   "outputs": [
    {
     "data": {
      "text/plain": [
       "symboling            0\n",
       "normalized-losses    0\n",
       "make                 0\n",
       "fuel-type            0\n",
       "body-style           0\n",
       "drive-wheels         0\n",
       "engine-location      0\n",
       "width                0\n",
       "height               0\n",
       "engine-type          0\n",
       "engine-size          0\n",
       "horsepower           0\n",
       "city-mpg             0\n",
       "highway-mpg          0\n",
       "price                0\n",
       "dtype: int64"
      ]
     },
     "execution_count": 158,
     "metadata": {},
     "output_type": "execute_result"
    }
   ],
   "source": [
    "df.isnull().sum()"
   ]
  },
  {
   "cell_type": "markdown",
   "id": "61b064ba",
   "metadata": {},
   "source": [
    " "
   ]
  },
  {
   "cell_type": "code",
   "execution_count": 159,
   "id": "3cc3e0bd",
   "metadata": {
    "scrolled": false
   },
   "outputs": [
    {
     "data": {
      "image/png": "[encoded data removed]",
      "text/plain": [
       "<Figure size 720x360 with 2 Axes>"
      ]
     },
     "metadata": {
      "needs_background": "light"
     },
     "output_type": "display_data"
    }
   ],
   "source": [
    "plt.figure(figsize=(10,5))\n",
    "sns.heatmap(df.isnull())\n",
    "plt.show()"
   ]
  },
  {
   "cell_type": "markdown",
   "id": "563a1ac2",
   "metadata": {},
   "source": [
    " "
   ]
  },
  {
   "cell_type": "code",
   "execution_count": 160,
   "id": "b554d03e",
   "metadata": {},
   "outputs": [
    {
     "data": {
      "text/plain": [
       "symboling              int64\n",
       "normalized-losses    float64\n",
       "make                  object\n",
       "fuel-type             object\n",
       "body-style            object\n",
       "drive-wheels          object\n",
       "engine-location       object\n",
       "width                float64\n",
       "height               float64\n",
       "engine-type           object\n",
       "engine-size            int64\n",
       "horsepower            object\n",
       "city-mpg               int64\n",
       "highway-mpg            int64\n",
       "price                  int64\n",
       "dtype: object"
      ]
     },
     "execution_count": 160,
     "metadata": {},
     "output_type": "execute_result"
    }
   ],
   "source": [
    "df.dtypes"
   ]
  },
  {
   "cell_type": "markdown",
   "id": "4976e590",
   "metadata": {},
   "source": [
    " "
   ]
  },
  {
   "cell_type": "markdown",
   "id": "882a4524",
   "metadata": {},
   "source": [
    "<span style=font-size:15px><font color='OrangeRed'>- Since <b>'horsepower'</b> column is also <b>'object'</b> type we will <b>perform same operation as 'normalized-losses' as above</b></font></span>"
   ]
  },
  {
   "cell_type": "markdown",
   "id": "697b9c2d",
   "metadata": {},
   "source": [
    "<b><span style=font-size:20px><font color='OrangeRed'>Step 1: Check Non Numeric column in the dataset</font></span></b>"
   ]
  },
  {
   "cell_type": "markdown",
   "id": "23da49ae",
   "metadata": {},
   "source": [
    "<b>-</b> Here It Shows There <b>2 Special Characters.</b>"
   ]
  },
  {
   "cell_type": "code",
   "execution_count": 161,
   "id": "976eb5bd",
   "metadata": {
    "scrolled": true
   },
   "outputs": [
    {
     "name": "stdout",
     "output_type": "stream",
     "text": [
      "130   ?\n",
      "131   ?\n",
      "No. of Special Character:  2\n"
     ]
    }
   ],
   "source": [
    "c = 0\n",
    "for i,data in enumerate(df['horsepower']):\n",
    "    if not data.isnumeric():\n",
    "        c = c + 1\n",
    "        print(i,\" \",data)\n",
    "print(\"No. of Special Character: \",c)\n",
    "        "
   ]
  },
  {
   "cell_type": "markdown",
   "id": "92e3d1a5",
   "metadata": {},
   "source": [
    " "
   ]
  },
  {
   "cell_type": "markdown",
   "id": "ef9ced33",
   "metadata": {},
   "source": [
    "<b><span style=font-size:20px><font color='OrangeRed'>Step 2: Convert the Non Numeric value to NAN (.replace)</font></span></b>"
   ]
  },
  {
   "cell_type": "markdown",
   "id": "815f896a",
   "metadata": {},
   "source": [
    "<b>-</b> Converting all <b>?</b> into <b>NAN</b> i.e. np.nan.</b>"
   ]
  },
  {
   "cell_type": "code",
   "execution_count": 162,
   "id": "774ed86d",
   "metadata": {},
   "outputs": [],
   "source": [
    "# Replacing '?' in horsepower column with null values permanently\n",
    "\n",
    "df['horsepower'].replace('?',np.nan,inplace=True)"
   ]
  },
  {
   "cell_type": "markdown",
   "id": "9f31eda3",
   "metadata": {},
   "source": [
    " "
   ]
  },
  {
   "cell_type": "code",
   "execution_count": 163,
   "id": "c62dc902",
   "metadata": {
    "scrolled": true
   },
   "outputs": [
    {
     "data": {
      "text/plain": [
       "symboling            0\n",
       "normalized-losses    0\n",
       "make                 0\n",
       "fuel-type            0\n",
       "body-style           0\n",
       "drive-wheels         0\n",
       "engine-location      0\n",
       "width                0\n",
       "height               0\n",
       "engine-type          0\n",
       "engine-size          0\n",
       "horsepower           2\n",
       "city-mpg             0\n",
       "highway-mpg          0\n",
       "price                0\n",
       "dtype: int64"
      ]
     },
     "execution_count": 163,
     "metadata": {},
     "output_type": "execute_result"
    }
   ],
   "source": [
    "df.isnull().sum()"
   ]
  },
  {
   "cell_type": "markdown",
   "id": "a8f71242",
   "metadata": {},
   "source": [
    " "
   ]
  },
  {
   "cell_type": "markdown",
   "id": "8917bce8",
   "metadata": {},
   "source": [
    "<b><span style=font-size:20px><font color='OrangeRed'>Step 3: Convert NAN to float value (.astype)</font></span></b>"
   ]
  },
  {
   "cell_type": "markdown",
   "id": "47c8098f",
   "metadata": {},
   "source": [
    "<b>-</b> Converting <b>horsepower</b> into <b>float data type.</b>"
   ]
  },
  {
   "cell_type": "code",
   "execution_count": 164,
   "id": "a2daebad",
   "metadata": {},
   "outputs": [],
   "source": [
    "# Changing 'horsepower' column from 'object' to 'float64'\n",
    "\n",
    "df['horsepower'] = df['horsepower'].astype('float')"
   ]
  },
  {
   "cell_type": "markdown",
   "id": "1bf9e10a",
   "metadata": {},
   "source": [
    " "
   ]
  },
  {
   "cell_type": "markdown",
   "id": "11fdea16",
   "metadata": {},
   "source": [
    "<b><span style=font-size:20px><font color='OrangeRed'>Step 4: Check the NULL VALUE Percentage, It should be less than 50% to make necessary changes</font></span></b>"
   ]
  },
  {
   "cell_type": "markdown",
   "id": "f3366b8a",
   "metadata": {},
   "source": [
    "<b>- Null Value Percentage</b> should be <b> < 50% </b><br>\n",
    "<b>-</b> If <b>yes</b> Then only perform <b>Step-5</b>"
   ]
  },
  {
   "cell_type": "code",
   "execution_count": 165,
   "id": "4adbfcdf",
   "metadata": {},
   "outputs": [
    {
     "data": {
      "text/plain": [
       "0.975609756097561"
      ]
     },
     "execution_count": 165,
     "metadata": {},
     "output_type": "execute_result"
    }
   ],
   "source": [
    "# check % of null values for horsepower column\n",
    "# It should be less than 50% to make necessary changes\n",
    "\n",
    "df['horsepower'].isnull().sum()*100/df.shape[0]"
   ]
  },
  {
   "cell_type": "markdown",
   "id": "4080d54f",
   "metadata": {},
   "source": [
    " "
   ]
  },
  {
   "cell_type": "markdown",
   "id": "371f24b1",
   "metadata": {},
   "source": [
    "<b><span style=font-size:20px><font color='OrangeRed'>Step 5: Find the mean of the column (.mean)</font></span></b>"
   ]
  },
  {
   "cell_type": "code",
   "execution_count": 166,
   "id": "726ce5e1",
   "metadata": {
    "scrolled": true
   },
   "outputs": [
    {
     "data": {
      "text/plain": [
       "104.25615763546799"
      ]
     },
     "execution_count": 166,
     "metadata": {},
     "output_type": "execute_result"
    }
   ],
   "source": [
    "m = df['horsepower'].mean()\n",
    "m"
   ]
  },
  {
   "cell_type": "markdown",
   "id": "e93554f1",
   "metadata": {},
   "source": [
    " "
   ]
  },
  {
   "cell_type": "markdown",
   "id": "ca910061",
   "metadata": {},
   "source": [
    "<b><span style=font-size:20px><font color='OrangeRed'>Step 6: Fill the NAN value with the mean value (.fillna)</font></span></b>"
   ]
  },
  {
   "cell_type": "markdown",
   "id": "a91eec0f",
   "metadata": {},
   "source": [
    "<b>- Filling Null Values</b>  with the <b>mean of horsepower column.</b>"
   ]
  },
  {
   "cell_type": "code",
   "execution_count": 167,
   "id": "509adcfb",
   "metadata": {},
   "outputs": [],
   "source": [
    "df['horsepower'].fillna(m,inplace=True)"
   ]
  },
  {
   "cell_type": "markdown",
   "id": "c4ac76b7",
   "metadata": {},
   "source": [
    " "
   ]
  },
  {
   "cell_type": "code",
   "execution_count": 168,
   "id": "50e95b48",
   "metadata": {},
   "outputs": [
    {
     "data": {
      "text/plain": [
       "symboling            0\n",
       "normalized-losses    0\n",
       "make                 0\n",
       "fuel-type            0\n",
       "body-style           0\n",
       "drive-wheels         0\n",
       "engine-location      0\n",
       "width                0\n",
       "height               0\n",
       "engine-type          0\n",
       "engine-size          0\n",
       "horsepower           0\n",
       "city-mpg             0\n",
       "highway-mpg          0\n",
       "price                0\n",
       "dtype: int64"
      ]
     },
     "execution_count": 168,
     "metadata": {},
     "output_type": "execute_result"
    }
   ],
   "source": [
    "df.isnull().sum()"
   ]
  },
  {
   "cell_type": "markdown",
   "id": "f4742aa4",
   "metadata": {},
   "source": [
    " "
   ]
  },
  {
   "cell_type": "code",
   "execution_count": 169,
   "id": "733e22c9",
   "metadata": {
    "scrolled": false
   },
   "outputs": [
    {
     "data": {
      "image/png": "[encoded data removed]",
      "text/plain": [
       "<Figure size 720x360 with 2 Axes>"
      ]
     },
     "metadata": {
      "needs_background": "light"
     },
     "output_type": "display_data"
    }
   ],
   "source": [
    "plt.figure(figsize=(10,5))\n",
    "sns.heatmap(df.isnull())\n",
    "plt.show()"
   ]
  },
  {
   "cell_type": "code",
   "execution_count": 170,
   "id": "c5943d84",
   "metadata": {
    "scrolled": true
   },
   "outputs": [
    {
     "data": {
      "text/html": [
       "<div>\n",
       "<style scoped>\n",
       "    .dataframe tbody tr th:only-of-type {\n",
       "        vertical-align: middle;\n",
       "    }\n",
       "\n",
       "    .dataframe tbody tr th {\n",
       "        vertical-align: top;\n",
       "    }\n",
       "\n",
       "    .dataframe thead th {\n",
       "        text-align: right;\n",
       "    }\n",
       "</style>\n",
       "<table border=\"1\" class=\"dataframe\">\n",
       "  <thead>\n",
       "    <tr style=\"text-align: right;\">\n",
       "      <th></th>\n",
       "      <th>symboling</th>\n",
       "      <th>normalized-losses</th>\n",
       "      <th>make</th>\n",
       "      <th>fuel-type</th>\n",
       "      <th>body-style</th>\n",
       "      <th>drive-wheels</th>\n",
       "      <th>engine-location</th>\n",
       "      <th>width</th>\n",
       "      <th>height</th>\n",
       "      <th>engine-type</th>\n",
       "      <th>engine-size</th>\n",
       "      <th>horsepower</th>\n",
       "      <th>city-mpg</th>\n",
       "      <th>highway-mpg</th>\n",
       "      <th>price</th>\n",
       "    </tr>\n",
       "  </thead>\n",
       "  <tbody>\n",
       "    <tr>\n",
       "      <th>200</th>\n",
       "      <td>-1</td>\n",
       "      <td>95.0</td>\n",
       "      <td>volvo</td>\n",
       "      <td>gas</td>\n",
       "      <td>sedan</td>\n",
       "      <td>rwd</td>\n",
       "      <td>front</td>\n",
       "      <td>68.9</td>\n",
       "      <td>55.5</td>\n",
       "      <td>ohc</td>\n",
       "      <td>141</td>\n",
       "      <td>114.0</td>\n",
       "      <td>23</td>\n",
       "      <td>28</td>\n",
       "      <td>16845</td>\n",
       "    </tr>\n",
       "    <tr>\n",
       "      <th>201</th>\n",
       "      <td>-1</td>\n",
       "      <td>95.0</td>\n",
       "      <td>volvo</td>\n",
       "      <td>gas</td>\n",
       "      <td>sedan</td>\n",
       "      <td>rwd</td>\n",
       "      <td>front</td>\n",
       "      <td>68.8</td>\n",
       "      <td>55.5</td>\n",
       "      <td>ohc</td>\n",
       "      <td>141</td>\n",
       "      <td>160.0</td>\n",
       "      <td>19</td>\n",
       "      <td>25</td>\n",
       "      <td>19045</td>\n",
       "    </tr>\n",
       "    <tr>\n",
       "      <th>202</th>\n",
       "      <td>-1</td>\n",
       "      <td>95.0</td>\n",
       "      <td>volvo</td>\n",
       "      <td>gas</td>\n",
       "      <td>sedan</td>\n",
       "      <td>rwd</td>\n",
       "      <td>front</td>\n",
       "      <td>68.9</td>\n",
       "      <td>55.5</td>\n",
       "      <td>ohcv</td>\n",
       "      <td>173</td>\n",
       "      <td>134.0</td>\n",
       "      <td>18</td>\n",
       "      <td>23</td>\n",
       "      <td>21485</td>\n",
       "    </tr>\n",
       "    <tr>\n",
       "      <th>203</th>\n",
       "      <td>-1</td>\n",
       "      <td>95.0</td>\n",
       "      <td>volvo</td>\n",
       "      <td>diesel</td>\n",
       "      <td>sedan</td>\n",
       "      <td>rwd</td>\n",
       "      <td>front</td>\n",
       "      <td>68.9</td>\n",
       "      <td>55.5</td>\n",
       "      <td>ohc</td>\n",
       "      <td>145</td>\n",
       "      <td>106.0</td>\n",
       "      <td>26</td>\n",
       "      <td>27</td>\n",
       "      <td>22470</td>\n",
       "    </tr>\n",
       "    <tr>\n",
       "      <th>204</th>\n",
       "      <td>-1</td>\n",
       "      <td>95.0</td>\n",
       "      <td>volvo</td>\n",
       "      <td>gas</td>\n",
       "      <td>sedan</td>\n",
       "      <td>rwd</td>\n",
       "      <td>front</td>\n",
       "      <td>68.9</td>\n",
       "      <td>55.5</td>\n",
       "      <td>ohc</td>\n",
       "      <td>141</td>\n",
       "      <td>114.0</td>\n",
       "      <td>19</td>\n",
       "      <td>25</td>\n",
       "      <td>22625</td>\n",
       "    </tr>\n",
       "  </tbody>\n",
       "</table>\n",
       "</div>"
      ],
      "text/plain": [
       "     symboling  normalized-losses   make fuel-type body-style drive-wheels  \\\n",
       "200         -1               95.0  volvo       gas      sedan          rwd   \n",
       "201         -1               95.0  volvo       gas      sedan          rwd   \n",
       "202         -1               95.0  volvo       gas      sedan          rwd   \n",
       "203         -1               95.0  volvo    diesel      sedan          rwd   \n",
       "204         -1               95.0  volvo       gas      sedan          rwd   \n",
       "\n",
       "    engine-location  width  height engine-type  engine-size  horsepower  \\\n",
       "200           front   68.9    55.5         ohc          141       114.0   \n",
       "201           front   68.8    55.5         ohc          141       160.0   \n",
       "202           front   68.9    55.5        ohcv          173       134.0   \n",
       "203           front   68.9    55.5         ohc          145       106.0   \n",
       "204           front   68.9    55.5         ohc          141       114.0   \n",
       "\n",
       "     city-mpg  highway-mpg  price  \n",
       "200        23           28  16845  \n",
       "201        19           25  19045  \n",
       "202        18           23  21485  \n",
       "203        26           27  22470  \n",
       "204        19           25  22625  "
      ]
     },
     "execution_count": 170,
     "metadata": {},
     "output_type": "execute_result"
    }
   ],
   "source": [
    "df.tail()"
   ]
  },
  {
   "cell_type": "markdown",
   "id": "85635515",
   "metadata": {},
   "source": [
    " "
   ]
  },
  {
   "cell_type": "markdown",
   "id": "d1569ed3",
   "metadata": {},
   "source": [
    "<b><span style=font-size:20px><font color='MediumBlue'><u>Step 2: Check Outliers</u></font></span></b>\n",
    "\n",
    "<span style=font-size:15px><b>1.</b> Plot a BoxPlot and Identify the outlier <br><b>2.</b> filter the Outlier based on the condition <br><b>3.</b> Delete the Particular row from the condition that we gave from Step-3 <b>df.drop(row_number,inplace=True)</b>"
   ]
  },
  {
   "cell_type": "markdown",
   "id": "454a3db5",
   "metadata": {},
   "source": [
    " "
   ]
  },
  {
   "cell_type": "markdown",
   "id": "57eaf0ee",
   "metadata": {},
   "source": [
    "<b><span style=font-size:20px><font color='OrangeRed'>Step 1: Plot a BoxPlot and Identify the outlier</font></span></b>"
   ]
  },
  {
   "cell_type": "code",
   "execution_count": 171,
   "id": "1ecb1990",
   "metadata": {},
   "outputs": [
    {
     "data": {
      "image/png": "[encoded data removed]",
      "text/plain": [
       "<Figure size 1440x720 with 1 Axes>"
      ]
     },
     "metadata": {
      "needs_background": "light"
     },
     "output_type": "display_data"
    }
   ],
   "source": [
    "plt.figure(figsize=(20,10))\n",
    "sns.boxplot(data=df,x='price',y='make')\n",
    "plt.show()"
   ]
  },
  {
   "cell_type": "markdown",
   "id": "7009362b",
   "metadata": {},
   "source": [
    " "
   ]
  },
  {
   "cell_type": "markdown",
   "id": "2bd56247",
   "metadata": {},
   "source": [
    "<b><span style=font-size:20px><font color='OrangeRed'>Step 2: filter the Outlier based on the condition</font></span></b>"
   ]
  },
  {
   "cell_type": "code",
   "execution_count": 172,
   "id": "b46d582b",
   "metadata": {
    "scrolled": true
   },
   "outputs": [
    {
     "data": {
      "text/html": [
       "<div>\n",
       "<style scoped>\n",
       "    .dataframe tbody tr th:only-of-type {\n",
       "        vertical-align: middle;\n",
       "    }\n",
       "\n",
       "    .dataframe tbody tr th {\n",
       "        vertical-align: top;\n",
       "    }\n",
       "\n",
       "    .dataframe thead th {\n",
       "        text-align: right;\n",
       "    }\n",
       "</style>\n",
       "<table border=\"1\" class=\"dataframe\">\n",
       "  <thead>\n",
       "    <tr style=\"text-align: right;\">\n",
       "      <th></th>\n",
       "      <th>symboling</th>\n",
       "      <th>normalized-losses</th>\n",
       "      <th>make</th>\n",
       "      <th>fuel-type</th>\n",
       "      <th>body-style</th>\n",
       "      <th>drive-wheels</th>\n",
       "      <th>engine-location</th>\n",
       "      <th>width</th>\n",
       "      <th>height</th>\n",
       "      <th>engine-type</th>\n",
       "      <th>engine-size</th>\n",
       "      <th>horsepower</th>\n",
       "      <th>city-mpg</th>\n",
       "      <th>highway-mpg</th>\n",
       "      <th>price</th>\n",
       "    </tr>\n",
       "  </thead>\n",
       "  <tbody>\n",
       "    <tr>\n",
       "      <th>172</th>\n",
       "      <td>2</td>\n",
       "      <td>134.0</td>\n",
       "      <td>toyota</td>\n",
       "      <td>gas</td>\n",
       "      <td>convertible</td>\n",
       "      <td>rwd</td>\n",
       "      <td>front</td>\n",
       "      <td>65.6</td>\n",
       "      <td>53.0</td>\n",
       "      <td>ohc</td>\n",
       "      <td>146</td>\n",
       "      <td>116.0</td>\n",
       "      <td>24</td>\n",
       "      <td>30</td>\n",
       "      <td>17669</td>\n",
       "    </tr>\n",
       "    <tr>\n",
       "      <th>178</th>\n",
       "      <td>3</td>\n",
       "      <td>197.0</td>\n",
       "      <td>toyota</td>\n",
       "      <td>gas</td>\n",
       "      <td>hatchback</td>\n",
       "      <td>rwd</td>\n",
       "      <td>front</td>\n",
       "      <td>67.7</td>\n",
       "      <td>52.0</td>\n",
       "      <td>dohc</td>\n",
       "      <td>171</td>\n",
       "      <td>161.0</td>\n",
       "      <td>20</td>\n",
       "      <td>24</td>\n",
       "      <td>16558</td>\n",
       "    </tr>\n",
       "    <tr>\n",
       "      <th>179</th>\n",
       "      <td>3</td>\n",
       "      <td>197.0</td>\n",
       "      <td>toyota</td>\n",
       "      <td>gas</td>\n",
       "      <td>hatchback</td>\n",
       "      <td>rwd</td>\n",
       "      <td>front</td>\n",
       "      <td>67.7</td>\n",
       "      <td>52.0</td>\n",
       "      <td>dohc</td>\n",
       "      <td>171</td>\n",
       "      <td>161.0</td>\n",
       "      <td>19</td>\n",
       "      <td>24</td>\n",
       "      <td>15998</td>\n",
       "    </tr>\n",
       "    <tr>\n",
       "      <th>180</th>\n",
       "      <td>-1</td>\n",
       "      <td>90.0</td>\n",
       "      <td>toyota</td>\n",
       "      <td>gas</td>\n",
       "      <td>sedan</td>\n",
       "      <td>rwd</td>\n",
       "      <td>front</td>\n",
       "      <td>66.5</td>\n",
       "      <td>54.1</td>\n",
       "      <td>dohc</td>\n",
       "      <td>171</td>\n",
       "      <td>156.0</td>\n",
       "      <td>20</td>\n",
       "      <td>24</td>\n",
       "      <td>15690</td>\n",
       "    </tr>\n",
       "    <tr>\n",
       "      <th>181</th>\n",
       "      <td>-1</td>\n",
       "      <td>122.0</td>\n",
       "      <td>toyota</td>\n",
       "      <td>gas</td>\n",
       "      <td>wagon</td>\n",
       "      <td>rwd</td>\n",
       "      <td>front</td>\n",
       "      <td>66.5</td>\n",
       "      <td>54.1</td>\n",
       "      <td>dohc</td>\n",
       "      <td>161</td>\n",
       "      <td>156.0</td>\n",
       "      <td>19</td>\n",
       "      <td>24</td>\n",
       "      <td>15750</td>\n",
       "    </tr>\n",
       "  </tbody>\n",
       "</table>\n",
       "</div>"
      ],
      "text/plain": [
       "     symboling  normalized-losses    make fuel-type   body-style drive-wheels  \\\n",
       "172          2              134.0  toyota       gas  convertible          rwd   \n",
       "178          3              197.0  toyota       gas    hatchback          rwd   \n",
       "179          3              197.0  toyota       gas    hatchback          rwd   \n",
       "180         -1               90.0  toyota       gas        sedan          rwd   \n",
       "181         -1              122.0  toyota       gas        wagon          rwd   \n",
       "\n",
       "    engine-location  width  height engine-type  engine-size  horsepower  \\\n",
       "172           front   65.6    53.0         ohc          146       116.0   \n",
       "178           front   67.7    52.0        dohc          171       161.0   \n",
       "179           front   67.7    52.0        dohc          171       161.0   \n",
       "180           front   66.5    54.1        dohc          171       156.0   \n",
       "181           front   66.5    54.1        dohc          161       156.0   \n",
       "\n",
       "     city-mpg  highway-mpg  price  \n",
       "172        24           30  17669  \n",
       "178        20           24  16558  \n",
       "179        19           24  15998  \n",
       "180        20           24  15690  \n",
       "181        19           24  15750  "
      ]
     },
     "execution_count": 172,
     "metadata": {},
     "output_type": "execute_result"
    }
   ],
   "source": [
    "df[(df['make']=='toyota') & (df['price']>15000)]"
   ]
  },
  {
   "cell_type": "markdown",
   "id": "a5151094",
   "metadata": {},
   "source": [
    "<b><span style=font-size:20px><font color='OrangeRed'>Step 3: Delete the Particular row from the condition that we gave from Step-2 ( df.drop() )</font></span></b>"
   ]
  },
  {
   "cell_type": "code",
   "execution_count": 173,
   "id": "41b0ce2f",
   "metadata": {},
   "outputs": [],
   "source": [
    "df.drop([172,178,179,180,181],inplace=True)"
   ]
  },
  {
   "cell_type": "markdown",
   "id": "e4221326",
   "metadata": {},
   "source": [
    " "
   ]
  },
  {
   "cell_type": "markdown",
   "id": "7261a7e1",
   "metadata": {},
   "source": [
    " "
   ]
  },
  {
   "cell_type": "code",
   "execution_count": 174,
   "id": "637cee99",
   "metadata": {
    "scrolled": false
   },
   "outputs": [
    {
     "data": {
      "text/html": [
       "<div>\n",
       "<style scoped>\n",
       "    .dataframe tbody tr th:only-of-type {\n",
       "        vertical-align: middle;\n",
       "    }\n",
       "\n",
       "    .dataframe tbody tr th {\n",
       "        vertical-align: top;\n",
       "    }\n",
       "\n",
       "    .dataframe thead th {\n",
       "        text-align: right;\n",
       "    }\n",
       "</style>\n",
       "<table border=\"1\" class=\"dataframe\">\n",
       "  <thead>\n",
       "    <tr style=\"text-align: right;\">\n",
       "      <th></th>\n",
       "      <th>symboling</th>\n",
       "      <th>normalized-losses</th>\n",
       "      <th>make</th>\n",
       "      <th>fuel-type</th>\n",
       "      <th>body-style</th>\n",
       "      <th>drive-wheels</th>\n",
       "      <th>engine-location</th>\n",
       "      <th>width</th>\n",
       "      <th>height</th>\n",
       "      <th>engine-type</th>\n",
       "      <th>engine-size</th>\n",
       "      <th>horsepower</th>\n",
       "      <th>city-mpg</th>\n",
       "      <th>highway-mpg</th>\n",
       "      <th>price</th>\n",
       "    </tr>\n",
       "  </thead>\n",
       "  <tbody>\n",
       "    <tr>\n",
       "      <th>124</th>\n",
       "      <td>3</td>\n",
       "      <td>122.0</td>\n",
       "      <td>plymouth</td>\n",
       "      <td>gas</td>\n",
       "      <td>hatchback</td>\n",
       "      <td>rwd</td>\n",
       "      <td>front</td>\n",
       "      <td>66.3</td>\n",
       "      <td>50.2</td>\n",
       "      <td>ohc</td>\n",
       "      <td>156</td>\n",
       "      <td>145.0</td>\n",
       "      <td>19</td>\n",
       "      <td>24</td>\n",
       "      <td>12764</td>\n",
       "    </tr>\n",
       "  </tbody>\n",
       "</table>\n",
       "</div>"
      ],
      "text/plain": [
       "     symboling  normalized-losses      make fuel-type body-style drive-wheels  \\\n",
       "124          3              122.0  plymouth       gas  hatchback          rwd   \n",
       "\n",
       "    engine-location  width  height engine-type  engine-size  horsepower  \\\n",
       "124           front   66.3    50.2         ohc          156       145.0   \n",
       "\n",
       "     city-mpg  highway-mpg  price  \n",
       "124        19           24  12764  "
      ]
     },
     "execution_count": 174,
     "metadata": {},
     "output_type": "execute_result"
    }
   ],
   "source": [
    "df[(df['make']=='plymouth') & (df['price']>10000)]"
   ]
  },
  {
   "cell_type": "code",
   "execution_count": 175,
   "id": "a058f98a",
   "metadata": {},
   "outputs": [],
   "source": [
    "df.drop(124,inplace=True)"
   ]
  },
  {
   "cell_type": "markdown",
   "id": "9386fe23",
   "metadata": {},
   "source": [
    " "
   ]
  },
  {
   "cell_type": "markdown",
   "id": "1020e257",
   "metadata": {},
   "source": [
    " "
   ]
  },
  {
   "cell_type": "code",
   "execution_count": 176,
   "id": "b0bb5111",
   "metadata": {
    "scrolled": false
   },
   "outputs": [
    {
     "data": {
      "text/html": [
       "<div>\n",
       "<style scoped>\n",
       "    .dataframe tbody tr th:only-of-type {\n",
       "        vertical-align: middle;\n",
       "    }\n",
       "\n",
       "    .dataframe tbody tr th {\n",
       "        vertical-align: top;\n",
       "    }\n",
       "\n",
       "    .dataframe thead th {\n",
       "        text-align: right;\n",
       "    }\n",
       "</style>\n",
       "<table border=\"1\" class=\"dataframe\">\n",
       "  <thead>\n",
       "    <tr style=\"text-align: right;\">\n",
       "      <th></th>\n",
       "      <th>symboling</th>\n",
       "      <th>normalized-losses</th>\n",
       "      <th>make</th>\n",
       "      <th>fuel-type</th>\n",
       "      <th>body-style</th>\n",
       "      <th>drive-wheels</th>\n",
       "      <th>engine-location</th>\n",
       "      <th>width</th>\n",
       "      <th>height</th>\n",
       "      <th>engine-type</th>\n",
       "      <th>engine-size</th>\n",
       "      <th>horsepower</th>\n",
       "      <th>city-mpg</th>\n",
       "      <th>highway-mpg</th>\n",
       "      <th>price</th>\n",
       "    </tr>\n",
       "  </thead>\n",
       "  <tbody>\n",
       "    <tr>\n",
       "      <th>83</th>\n",
       "      <td>3</td>\n",
       "      <td>122.0</td>\n",
       "      <td>mitsubishi</td>\n",
       "      <td>gas</td>\n",
       "      <td>hatchback</td>\n",
       "      <td>fwd</td>\n",
       "      <td>front</td>\n",
       "      <td>66.3</td>\n",
       "      <td>50.2</td>\n",
       "      <td>ohc</td>\n",
       "      <td>156</td>\n",
       "      <td>145.0</td>\n",
       "      <td>19</td>\n",
       "      <td>24</td>\n",
       "      <td>14869</td>\n",
       "    </tr>\n",
       "    <tr>\n",
       "      <th>84</th>\n",
       "      <td>3</td>\n",
       "      <td>122.0</td>\n",
       "      <td>mitsubishi</td>\n",
       "      <td>gas</td>\n",
       "      <td>hatchback</td>\n",
       "      <td>fwd</td>\n",
       "      <td>front</td>\n",
       "      <td>66.3</td>\n",
       "      <td>50.2</td>\n",
       "      <td>ohc</td>\n",
       "      <td>156</td>\n",
       "      <td>145.0</td>\n",
       "      <td>19</td>\n",
       "      <td>24</td>\n",
       "      <td>14489</td>\n",
       "    </tr>\n",
       "  </tbody>\n",
       "</table>\n",
       "</div>"
      ],
      "text/plain": [
       "    symboling  normalized-losses        make fuel-type body-style  \\\n",
       "83          3              122.0  mitsubishi       gas  hatchback   \n",
       "84          3              122.0  mitsubishi       gas  hatchback   \n",
       "\n",
       "   drive-wheels engine-location  width  height engine-type  engine-size  \\\n",
       "83          fwd           front   66.3    50.2         ohc          156   \n",
       "84          fwd           front   66.3    50.2         ohc          156   \n",
       "\n",
       "    horsepower  city-mpg  highway-mpg  price  \n",
       "83       145.0        19           24  14869  \n",
       "84       145.0        19           24  14489  "
      ]
     },
     "execution_count": 176,
     "metadata": {},
     "output_type": "execute_result"
    }
   ],
   "source": [
    "df[(df['make']=='mitsubishi') & (df['price']>13000)]"
   ]
  },
  {
   "cell_type": "code",
   "execution_count": 177,
   "id": "4d4bd9bd",
   "metadata": {},
   "outputs": [],
   "source": [
    "df.drop([83,84],inplace=True)"
   ]
  },
  {
   "cell_type": "markdown",
   "id": "ef2bb60a",
   "metadata": {},
   "source": [
    " "
   ]
  },
  {
   "cell_type": "markdown",
   "id": "780b84ff",
   "metadata": {},
   "source": [
    " "
   ]
  },
  {
   "cell_type": "code",
   "execution_count": 178,
   "id": "4e83f870",
   "metadata": {},
   "outputs": [
    {
     "data": {
      "text/html": [
       "<div>\n",
       "<style scoped>\n",
       "    .dataframe tbody tr th:only-of-type {\n",
       "        vertical-align: middle;\n",
       "    }\n",
       "\n",
       "    .dataframe tbody tr th {\n",
       "        vertical-align: top;\n",
       "    }\n",
       "\n",
       "    .dataframe thead th {\n",
       "        text-align: right;\n",
       "    }\n",
       "</style>\n",
       "<table border=\"1\" class=\"dataframe\">\n",
       "  <thead>\n",
       "    <tr style=\"text-align: right;\">\n",
       "      <th></th>\n",
       "      <th>symboling</th>\n",
       "      <th>normalized-losses</th>\n",
       "      <th>make</th>\n",
       "      <th>fuel-type</th>\n",
       "      <th>body-style</th>\n",
       "      <th>drive-wheels</th>\n",
       "      <th>engine-location</th>\n",
       "      <th>width</th>\n",
       "      <th>height</th>\n",
       "      <th>engine-type</th>\n",
       "      <th>engine-size</th>\n",
       "      <th>horsepower</th>\n",
       "      <th>city-mpg</th>\n",
       "      <th>highway-mpg</th>\n",
       "      <th>price</th>\n",
       "    </tr>\n",
       "  </thead>\n",
       "  <tbody>\n",
       "    <tr>\n",
       "      <th>45</th>\n",
       "      <td>0</td>\n",
       "      <td>122.0</td>\n",
       "      <td>isuzu</td>\n",
       "      <td>gas</td>\n",
       "      <td>sedan</td>\n",
       "      <td>fwd</td>\n",
       "      <td>front</td>\n",
       "      <td>63.6</td>\n",
       "      <td>52.0</td>\n",
       "      <td>ohc</td>\n",
       "      <td>90</td>\n",
       "      <td>70.0</td>\n",
       "      <td>38</td>\n",
       "      <td>43</td>\n",
       "      <td>23000</td>\n",
       "    </tr>\n",
       "  </tbody>\n",
       "</table>\n",
       "</div>"
      ],
      "text/plain": [
       "    symboling  normalized-losses   make fuel-type body-style drive-wheels  \\\n",
       "45          0              122.0  isuzu       gas      sedan          fwd   \n",
       "\n",
       "   engine-location  width  height engine-type  engine-size  horsepower  \\\n",
       "45           front   63.6    52.0         ohc           90        70.0   \n",
       "\n",
       "    city-mpg  highway-mpg  price  \n",
       "45        38           43  23000  "
      ]
     },
     "execution_count": 178,
     "metadata": {},
     "output_type": "execute_result"
    }
   ],
   "source": [
    "df[(df['make']=='isuzu') & (df['price']>20000)]"
   ]
  },
  {
   "cell_type": "code",
   "execution_count": 179,
   "id": "4d3c4262",
   "metadata": {},
   "outputs": [],
   "source": [
    "df.drop(45,inplace=True)"
   ]
  },
  {
   "cell_type": "markdown",
   "id": "3968ccc4",
   "metadata": {},
   "source": [
    " "
   ]
  },
  {
   "cell_type": "markdown",
   "id": "b0edae81",
   "metadata": {},
   "source": [
    " "
   ]
  },
  {
   "cell_type": "code",
   "execution_count": 180,
   "id": "97ec4bb7",
   "metadata": {},
   "outputs": [
    {
     "data": {
      "text/html": [
       "<div>\n",
       "<style scoped>\n",
       "    .dataframe tbody tr th:only-of-type {\n",
       "        vertical-align: middle;\n",
       "    }\n",
       "\n",
       "    .dataframe tbody tr th {\n",
       "        vertical-align: top;\n",
       "    }\n",
       "\n",
       "    .dataframe thead th {\n",
       "        text-align: right;\n",
       "    }\n",
       "</style>\n",
       "<table border=\"1\" class=\"dataframe\">\n",
       "  <thead>\n",
       "    <tr style=\"text-align: right;\">\n",
       "      <th></th>\n",
       "      <th>symboling</th>\n",
       "      <th>normalized-losses</th>\n",
       "      <th>make</th>\n",
       "      <th>fuel-type</th>\n",
       "      <th>body-style</th>\n",
       "      <th>drive-wheels</th>\n",
       "      <th>engine-location</th>\n",
       "      <th>width</th>\n",
       "      <th>height</th>\n",
       "      <th>engine-type</th>\n",
       "      <th>engine-size</th>\n",
       "      <th>horsepower</th>\n",
       "      <th>city-mpg</th>\n",
       "      <th>highway-mpg</th>\n",
       "      <th>price</th>\n",
       "    </tr>\n",
       "  </thead>\n",
       "  <tbody>\n",
       "    <tr>\n",
       "      <th>41</th>\n",
       "      <td>0</td>\n",
       "      <td>85.0</td>\n",
       "      <td>honda</td>\n",
       "      <td>gas</td>\n",
       "      <td>sedan</td>\n",
       "      <td>fwd</td>\n",
       "      <td>front</td>\n",
       "      <td>65.2</td>\n",
       "      <td>54.1</td>\n",
       "      <td>ohc</td>\n",
       "      <td>110</td>\n",
       "      <td>101.0</td>\n",
       "      <td>24</td>\n",
       "      <td>28</td>\n",
       "      <td>12945</td>\n",
       "    </tr>\n",
       "  </tbody>\n",
       "</table>\n",
       "</div>"
      ],
      "text/plain": [
       "    symboling  normalized-losses   make fuel-type body-style drive-wheels  \\\n",
       "41          0               85.0  honda       gas      sedan          fwd   \n",
       "\n",
       "   engine-location  width  height engine-type  engine-size  horsepower  \\\n",
       "41           front   65.2    54.1         ohc          110       101.0   \n",
       "\n",
       "    city-mpg  highway-mpg  price  \n",
       "41        24           28  12945  "
      ]
     },
     "execution_count": 180,
     "metadata": {},
     "output_type": "execute_result"
    }
   ],
   "source": [
    "df[(df['make']=='honda') & (df['price']>12000)]"
   ]
  },
  {
   "cell_type": "code",
   "execution_count": 181,
   "id": "4badff30",
   "metadata": {},
   "outputs": [],
   "source": [
    "df.drop(41,inplace=True)"
   ]
  },
  {
   "cell_type": "markdown",
   "id": "6fe0a658",
   "metadata": {},
   "source": [
    " "
   ]
  },
  {
   "cell_type": "markdown",
   "id": "e467ca8d",
   "metadata": {},
   "source": [
    " "
   ]
  },
  {
   "cell_type": "code",
   "execution_count": 182,
   "id": "ad8e6e92",
   "metadata": {
    "scrolled": false
   },
   "outputs": [
    {
     "data": {
      "text/html": [
       "<div>\n",
       "<style scoped>\n",
       "    .dataframe tbody tr th:only-of-type {\n",
       "        vertical-align: middle;\n",
       "    }\n",
       "\n",
       "    .dataframe tbody tr th {\n",
       "        vertical-align: top;\n",
       "    }\n",
       "\n",
       "    .dataframe thead th {\n",
       "        text-align: right;\n",
       "    }\n",
       "</style>\n",
       "<table border=\"1\" class=\"dataframe\">\n",
       "  <thead>\n",
       "    <tr style=\"text-align: right;\">\n",
       "      <th></th>\n",
       "      <th>symboling</th>\n",
       "      <th>normalized-losses</th>\n",
       "      <th>make</th>\n",
       "      <th>fuel-type</th>\n",
       "      <th>body-style</th>\n",
       "      <th>drive-wheels</th>\n",
       "      <th>engine-location</th>\n",
       "      <th>width</th>\n",
       "      <th>height</th>\n",
       "      <th>engine-type</th>\n",
       "      <th>engine-size</th>\n",
       "      <th>horsepower</th>\n",
       "      <th>city-mpg</th>\n",
       "      <th>highway-mpg</th>\n",
       "      <th>price</th>\n",
       "    </tr>\n",
       "  </thead>\n",
       "  <tbody>\n",
       "    <tr>\n",
       "      <th>29</th>\n",
       "      <td>3</td>\n",
       "      <td>145.0</td>\n",
       "      <td>dodge</td>\n",
       "      <td>gas</td>\n",
       "      <td>hatchback</td>\n",
       "      <td>fwd</td>\n",
       "      <td>front</td>\n",
       "      <td>66.3</td>\n",
       "      <td>50.2</td>\n",
       "      <td>ohc</td>\n",
       "      <td>156</td>\n",
       "      <td>145.0</td>\n",
       "      <td>19</td>\n",
       "      <td>24</td>\n",
       "      <td>12964</td>\n",
       "    </tr>\n",
       "  </tbody>\n",
       "</table>\n",
       "</div>"
      ],
      "text/plain": [
       "    symboling  normalized-losses   make fuel-type body-style drive-wheels  \\\n",
       "29          3              145.0  dodge       gas  hatchback          fwd   \n",
       "\n",
       "   engine-location  width  height engine-type  engine-size  horsepower  \\\n",
       "29           front   66.3    50.2         ohc          156       145.0   \n",
       "\n",
       "    city-mpg  highway-mpg  price  \n",
       "29        19           24  12964  "
      ]
     },
     "execution_count": 182,
     "metadata": {},
     "output_type": "execute_result"
    }
   ],
   "source": [
    "df[(df['make']=='dodge') & (df['price']>10000)]"
   ]
  },
  {
   "cell_type": "code",
   "execution_count": 183,
   "id": "26f5b144",
   "metadata": {},
   "outputs": [],
   "source": [
    "df.drop(29,inplace=True)"
   ]
  },
  {
   "cell_type": "markdown",
   "id": "0573f015",
   "metadata": {},
   "source": [
    " "
   ]
  },
  {
   "cell_type": "markdown",
   "id": "0b5df78b",
   "metadata": {},
   "source": [
    " "
   ]
  },
  {
   "cell_type": "code",
   "execution_count": 184,
   "id": "d8f5c05e",
   "metadata": {},
   "outputs": [
    {
     "data": {
      "image/png": "[encoded data removed]",
      "text/plain": [
       "<Figure size 1440x720 with 1 Axes>"
      ]
     },
     "metadata": {
      "needs_background": "light"
     },
     "output_type": "display_data"
    }
   ],
   "source": [
    "plt.figure(figsize=(20,10))\n",
    "sns.boxplot(data=df,x='price',y='make')\n",
    "plt.show()"
   ]
  },
  {
   "cell_type": "markdown",
   "id": "9f34caee",
   "metadata": {},
   "source": [
    " "
   ]
  },
  {
   "cell_type": "markdown",
   "id": "3acf36bd",
   "metadata": {},
   "source": [
    "<b><span style=font-size:20px><font color='MediumBlue'><u>Step 3: Handling Categorical Data</u></font></span></b>\n",
    "\n",
    "<span style=font-size:15px><b>1.</b> Separate Categorical data and Numerical Data <br><b>2.</b> Convert all Categorical data into Numerical data"
   ]
  },
  {
   "cell_type": "code",
   "execution_count": 185,
   "id": "1f726519",
   "metadata": {
    "scrolled": true
   },
   "outputs": [
    {
     "data": {
      "text/plain": [
       "symboling              int64\n",
       "normalized-losses    float64\n",
       "make                  object\n",
       "fuel-type             object\n",
       "body-style            object\n",
       "drive-wheels          object\n",
       "engine-location       object\n",
       "width                float64\n",
       "height               float64\n",
       "engine-type           object\n",
       "engine-size            int64\n",
       "horsepower           float64\n",
       "city-mpg               int64\n",
       "highway-mpg            int64\n",
       "price                  int64\n",
       "dtype: object"
      ]
     },
     "execution_count": 185,
     "metadata": {},
     "output_type": "execute_result"
    }
   ],
   "source": [
    "df.dtypes"
   ]
  },
  {
   "cell_type": "markdown",
   "id": "99e4e58a",
   "metadata": {},
   "source": [
    "<b><span style=font-size:20px><font color='OrangeRed'>Step 1: Separate Categorical data and Numerical Data</font></span></b>"
   ]
  },
  {
   "cell_type": "code",
   "execution_count": 186,
   "id": "ad3f1e7a",
   "metadata": {
    "scrolled": true
   },
   "outputs": [
    {
     "data": {
      "text/plain": [
       "make               object\n",
       "fuel-type          object\n",
       "body-style         object\n",
       "drive-wheels       object\n",
       "engine-location    object\n",
       "engine-type        object\n",
       "dtype: object"
      ]
     },
     "execution_count": 186,
     "metadata": {},
     "output_type": "execute_result"
    }
   ],
   "source": [
    "df_cat = df.select_dtypes('object')\n",
    "df_cat.dtypes"
   ]
  },
  {
   "cell_type": "markdown",
   "id": "a72db68a",
   "metadata": {},
   "source": [
    " "
   ]
  },
  {
   "cell_type": "code",
   "execution_count": 187,
   "id": "bfb8afb3",
   "metadata": {
    "scrolled": false
   },
   "outputs": [
    {
     "data": {
      "text/plain": [
       "symboling              int64\n",
       "normalized-losses    float64\n",
       "width                float64\n",
       "height               float64\n",
       "engine-size            int64\n",
       "horsepower           float64\n",
       "city-mpg               int64\n",
       "highway-mpg            int64\n",
       "price                  int64\n",
       "dtype: object"
      ]
     },
     "execution_count": 187,
     "metadata": {},
     "output_type": "execute_result"
    }
   ],
   "source": [
    "df_num = df.select_dtypes(['int64','float64'])\n",
    "df_num.dtypes"
   ]
  },
  {
   "cell_type": "markdown",
   "id": "f78d01ad",
   "metadata": {},
   "source": [
    "<b><span style=font-size:20px><font color='OrangeRed'>Step 2: Convert all Categorical data into Numerical data</font></span></b>"
   ]
  },
  {
   "cell_type": "code",
   "execution_count": 188,
   "id": "3872de4b",
   "metadata": {},
   "outputs": [],
   "source": [
    "from sklearn.preprocessing import LabelEncoder\n",
    "\n",
    "for col in df_cat:\n",
    "    le = LabelEncoder()\n",
    "    df_cat[col] = le.fit_transform(df_cat[col])"
   ]
  },
  {
   "cell_type": "markdown",
   "id": "933bfe23",
   "metadata": {},
   "source": [
    " "
   ]
  },
  {
   "cell_type": "code",
   "execution_count": 189,
   "id": "b6a815ad",
   "metadata": {
    "scrolled": true
   },
   "outputs": [
    {
     "data": {
      "text/plain": [
       "make               int32\n",
       "fuel-type          int32\n",
       "body-style         int32\n",
       "drive-wheels       int32\n",
       "engine-location    int32\n",
       "engine-type        int32\n",
       "dtype: object"
      ]
     },
     "execution_count": 189,
     "metadata": {},
     "output_type": "execute_result"
    }
   ],
   "source": [
    "df_cat.dtypes"
   ]
  },
  {
   "cell_type": "markdown",
   "id": "48d10218",
   "metadata": {},
   "source": [
    "<b><span style=font-size:20px><font color='MediumBlue'><u>Step 4: Handling skewness on contienous numerical value</u></font></span></b>\n",
    "\n",
    "<span style=font-size:15px><b>1.</b> Check the Skewness of each and every column<br><b>2.</b> Correlation check: Plot Heatmap to check individual values <b>(annot=True)</b><br><b>3.</b> Check Individual Column Value if -ve value comes in any column then do not perform Skewness on that column \n",
    "<br><b>4.</b> Merge Numerical and Categorical Data"
   ]
  },
  {
   "cell_type": "code",
   "execution_count": 190,
   "id": "0e7ca3be",
   "metadata": {
    "scrolled": true
   },
   "outputs": [
    {
     "data": {
      "text/plain": [
       "symboling              int64\n",
       "normalized-losses    float64\n",
       "width                float64\n",
       "height               float64\n",
       "engine-size            int64\n",
       "horsepower           float64\n",
       "city-mpg               int64\n",
       "highway-mpg            int64\n",
       "price                  int64\n",
       "dtype: object"
      ]
     },
     "execution_count": 190,
     "metadata": {},
     "output_type": "execute_result"
    }
   ],
   "source": [
    "# check skewness on df_num dataframe\n",
    "df_num.dtypes"
   ]
  },
  {
   "cell_type": "markdown",
   "id": "3e4688ac",
   "metadata": {},
   "source": [
    "<b><span style=font-size:20px><font color='OrangeRed'>Step 1: Check the Skewness of each and every column</font></span></b>"
   ]
  },
  {
   "cell_type": "code",
   "execution_count": 191,
   "id": "5d420dc3",
   "metadata": {},
   "outputs": [
    {
     "name": "stdout",
     "output_type": "stream",
     "text": [
      "Skewness of symboling is 0.21553879118985067\n"
     ]
    },
    {
     "data": {
      "image/png": "[encoded data removed]",
      "text/plain": [
       "<Figure size 432x288 with 1 Axes>"
      ]
     },
     "metadata": {
      "needs_background": "light"
     },
     "output_type": "display_data"
    },
    {
     "data": {
      "image/png": "[encoded data removed]",
      "text/plain": [
       "<Figure size 432x288 with 1 Axes>"
      ]
     },
     "metadata": {
      "needs_background": "light"
     },
     "output_type": "display_data"
    },
    {
     "name": "stdout",
     "output_type": "stream",
     "text": [
      "Skewness of normalized-losses is 0.8548297087772652\n"
     ]
    },
    {
     "data": {
      "image/png": "[encoded data removed]",
      "text/plain": [
       "<Figure size 432x288 with 1 Axes>"
      ]
     },
     "metadata": {
      "needs_background": "light"
     },
     "output_type": "display_data"
    },
    {
     "data": {
      "image/png": "[encoded data removed]",
      "text/plain": [
       "<Figure size 432x288 with 1 Axes>"
      ]
     },
     "metadata": {
      "needs_background": "light"
     },
     "output_type": "display_data"
    },
    {
     "name": "stdout",
     "output_type": "stream",
     "text": [
      "Skewness of width is 0.9211778944564376\n"
     ]
    },
    {
     "data": {
      "image/png": "[encoded data removed]",
      "text/plain": [
       "<Figure size 432x288 with 1 Axes>"
      ]
     },
     "metadata": {
      "needs_background": "light"
     },
     "output_type": "display_data"
    },
    {
     "data": {
      "image/png": "[encoded data removed]",
      "text/plain": [
       "<Figure size 432x288 with 1 Axes>"
      ]
     },
     "metadata": {
      "needs_background": "light"
     },
     "output_type": "display_data"
    },
    {
     "name": "stdout",
     "output_type": "stream",
     "text": [
      "Skewness of height is 0.013948040584818078\n"
     ]
    },
    {
     "data": {
      "image/png": "[encoded data removed]",
      "text/plain": [
       "<Figure size 432x288 with 1 Axes>"
      ]
     },
     "metadata": {
      "needs_background": "light"
     },
     "output_type": "display_data"
    },
    {
     "data": {
      "image/png": "[encoded data removed]",
      "text/plain": [
       "<Figure size 432x288 with 1 Axes>"
      ]
     },
     "metadata": {
      "needs_background": "light"
     },
     "output_type": "display_data"
    },
    {
     "name": "stdout",
     "output_type": "stream",
     "text": [
      "Skewness of engine-size is 2.0701667089337397\n"
     ]
    },
    {
     "data": {
      "image/png": "[encoded data removed]",
      "text/plain": [
       "<Figure size 432x288 with 1 Axes>"
      ]
     },
     "metadata": {
      "needs_background": "light"
     },
     "output_type": "display_data"
    },
    {
     "data": {
      "image/png": "[encoded data removed]",
      "text/plain": [
       "<Figure size 432x288 with 1 Axes>"
      ]
     },
     "metadata": {
      "needs_background": "light"
     },
     "output_type": "display_data"
    },
    {
     "name": "stdout",
     "output_type": "stream",
     "text": [
      "Skewness of horsepower is 1.567805996273028\n"
     ]
    },
    {
     "data": {
      "image/png": "[encoded data removed]",
      "text/plain": [
       "<Figure size 432x288 with 1 Axes>"
      ]
     },
     "metadata": {
      "needs_background": "light"
     },
     "output_type": "display_data"
    },
    {
     "data": {
      "image/png": "[encoded data removed]",
      "text/plain": [
       "<Figure size 432x288 with 1 Axes>"
      ]
     },
     "metadata": {
      "needs_background": "light"
     },
     "output_type": "display_data"
    },
    {
     "name": "stdout",
     "output_type": "stream",
     "text": [
      "Skewness of city-mpg is 0.6045920607537428\n"
     ]
    },
    {
     "data": {
      "image/png": "[encoded data removed]",
      "text/plain": [
       "<Figure size 432x288 with 1 Axes>"
      ]
     },
     "metadata": {
      "needs_background": "light"
     },
     "output_type": "display_data"
    },
    {
     "data": {
      "image/png": "[encoded data removed]",
      "text/plain": [
       "<Figure size 432x288 with 1 Axes>"
      ]
     },
     "metadata": {
      "needs_background": "light"
     },
     "output_type": "display_data"
    },
    {
     "name": "stdout",
     "output_type": "stream",
     "text": [
      "Skewness of highway-mpg is 0.47974839979280953\n"
     ]
    },
    {
     "data": {
      "image/png": "[encoded data removed]",
      "text/plain": [
       "<Figure size 432x288 with 1 Axes>"
      ]
     },
     "metadata": {
      "needs_background": "light"
     },
     "output_type": "display_data"
    },
    {
     "data": {
      "image/png": "[encoded data removed]",
      "text/plain": [
       "<Figure size 432x288 with 1 Axes>"
      ]
     },
     "metadata": {
      "needs_background": "light"
     },
     "output_type": "display_data"
    },
    {
     "name": "stdout",
     "output_type": "stream",
     "text": [
      "Skewness of price is 1.8308661663282721\n"
     ]
    },
    {
     "data": {
      "image/png": "[encoded data removed]",
      "text/plain": [
       "<Figure size 432x288 with 1 Axes>"
      ]
     },
     "metadata": {
      "needs_background": "light"
     },
     "output_type": "display_data"
    },
    {
     "data": {
      "image/png": "[encoded data removed]",
      "text/plain": [
       "<Figure size 432x288 with 1 Axes>"
      ]
     },
     "metadata": {
      "needs_background": "light"
     },
     "output_type": "display_data"
    }
   ],
   "source": [
    "for col in df_num:\n",
    "    print('Skewness of',col,'is',df_num[col].skew())\n",
    "    sns.histplot(df[col])\n",
    "    plt.show()\n",
    "    sns.distplot(df[col])\n",
    "    plt.show()"
   ]
  },
  {
   "cell_type": "markdown",
   "id": "91caa0fb",
   "metadata": {},
   "source": [
    " "
   ]
  },
  {
   "cell_type": "markdown",
   "id": "4046cc4b",
   "metadata": {},
   "source": [
    "<b><span style=font-size:20px><font color='OrangeRed'>Step 2: Correlation check: Plot Heatmap to check individual values (annot=True)</font></span></b>\n",
    "\n",
    "<b>1.</b> Coorelation: Each Input with Output (Target Variable).<br>\n",
    "<b>2.</b> Value of Correlation between -1 to +1.<br>\n",
    "<b>3.</b> Good Correlation Range >=0.5 or -0.5.<br>\n",
    "<b>4.</b> Use Inbuilt Method corr()."
   ]
  },
  {
   "cell_type": "code",
   "execution_count": 192,
   "id": "0e8d5497",
   "metadata": {
    "scrolled": false
   },
   "outputs": [
    {
     "data": {
      "image/png": "[encoded data removed]",
      "text/plain": [
       "<Figure size 1440x576 with 2 Axes>"
      ]
     },
     "metadata": {
      "needs_background": "light"
     },
     "output_type": "display_data"
    }
   ],
   "source": [
    "plt.figure(figsize=(20,8))\n",
    "sns.heatmap(df_num.corr(),annot=True)\n",
    "plt.show()"
   ]
  },
  {
   "cell_type": "markdown",
   "id": "ebc193c2",
   "metadata": {},
   "source": [
    "<b><span style=font-size:20px><font color='OrangeRed'>Step 3: Check Individual Column Value if -ve value comes in any column then do not perform Skewness on that column</font></span></b>"
   ]
  },
  {
   "cell_type": "code",
   "execution_count": 193,
   "id": "f6001381",
   "metadata": {
    "scrolled": true
   },
   "outputs": [
    {
     "name": "stdout",
     "output_type": "stream",
     "text": [
      "symboling\n",
      "[ 3  1  2  0 -1 -2]\n",
      "normalized-losses\n",
      "[122. 164. 158. 192. 188. 121.  98.  81. 118. 148. 110. 137. 101.  78.\n",
      " 106.  85. 107. 145. 104. 113. 150. 129. 115.  93. 142. 161. 153. 125.\n",
      " 128. 103. 168. 108. 194. 231. 119. 154.  74. 186.  83. 102.  89.  87.\n",
      "  77.  91. 134.  65.  94. 256.  95.]\n"
     ]
    }
   ],
   "source": [
    "column = ['symboling','normalized-losses']\n",
    "for col in column:\n",
    "    print(col)\n",
    "    print(df_num[col].unique())"
   ]
  },
  {
   "cell_type": "markdown",
   "id": "a3cca9fd",
   "metadata": {},
   "source": [
    " "
   ]
  },
  {
   "cell_type": "code",
   "execution_count": 194,
   "id": "d03136fe",
   "metadata": {},
   "outputs": [],
   "source": [
    "df_num['normalized-losses'] = np.log(df_num['normalized-losses'])"
   ]
  },
  {
   "cell_type": "markdown",
   "id": "fc360ccc",
   "metadata": {},
   "source": [
    " "
   ]
  },
  {
   "cell_type": "code",
   "execution_count": 195,
   "id": "5fe11203",
   "metadata": {},
   "outputs": [
    {
     "data": {
      "text/plain": [
       "0.018613125599377153"
      ]
     },
     "execution_count": 195,
     "metadata": {},
     "output_type": "execute_result"
    }
   ],
   "source": [
    "df_num['normalized-losses'].skew()"
   ]
  },
  {
   "cell_type": "markdown",
   "id": "b4be3ad2",
   "metadata": {},
   "source": [
    "<b><span style=font-size:20px><font color='OrangeRed'>Step 4: Merge Numerical and Categorical Data</font></span></b>"
   ]
  },
  {
   "cell_type": "code",
   "execution_count": 196,
   "id": "bac1510f",
   "metadata": {
    "scrolled": true
   },
   "outputs": [
    {
     "data": {
      "text/html": [
       "<div>\n",
       "<style scoped>\n",
       "    .dataframe tbody tr th:only-of-type {\n",
       "        vertical-align: middle;\n",
       "    }\n",
       "\n",
       "    .dataframe tbody tr th {\n",
       "        vertical-align: top;\n",
       "    }\n",
       "\n",
       "    .dataframe thead th {\n",
       "        text-align: right;\n",
       "    }\n",
       "</style>\n",
       "<table border=\"1\" class=\"dataframe\">\n",
       "  <thead>\n",
       "    <tr style=\"text-align: right;\">\n",
       "      <th></th>\n",
       "      <th>make</th>\n",
       "      <th>fuel-type</th>\n",
       "      <th>body-style</th>\n",
       "      <th>drive-wheels</th>\n",
       "      <th>engine-location</th>\n",
       "      <th>engine-type</th>\n",
       "      <th>symboling</th>\n",
       "      <th>normalized-losses</th>\n",
       "      <th>width</th>\n",
       "      <th>height</th>\n",
       "      <th>engine-size</th>\n",
       "      <th>horsepower</th>\n",
       "      <th>city-mpg</th>\n",
       "      <th>highway-mpg</th>\n",
       "      <th>price</th>\n",
       "    </tr>\n",
       "  </thead>\n",
       "  <tbody>\n",
       "    <tr>\n",
       "      <th>0</th>\n",
       "      <td>0</td>\n",
       "      <td>1</td>\n",
       "      <td>0</td>\n",
       "      <td>2</td>\n",
       "      <td>0</td>\n",
       "      <td>0</td>\n",
       "      <td>3</td>\n",
       "      <td>4.804021</td>\n",
       "      <td>64.1</td>\n",
       "      <td>48.8</td>\n",
       "      <td>130</td>\n",
       "      <td>111.0</td>\n",
       "      <td>21</td>\n",
       "      <td>27</td>\n",
       "      <td>13495</td>\n",
       "    </tr>\n",
       "    <tr>\n",
       "      <th>1</th>\n",
       "      <td>0</td>\n",
       "      <td>1</td>\n",
       "      <td>0</td>\n",
       "      <td>2</td>\n",
       "      <td>0</td>\n",
       "      <td>0</td>\n",
       "      <td>3</td>\n",
       "      <td>4.804021</td>\n",
       "      <td>64.1</td>\n",
       "      <td>48.8</td>\n",
       "      <td>130</td>\n",
       "      <td>111.0</td>\n",
       "      <td>21</td>\n",
       "      <td>27</td>\n",
       "      <td>16500</td>\n",
       "    </tr>\n",
       "    <tr>\n",
       "      <th>2</th>\n",
       "      <td>0</td>\n",
       "      <td>1</td>\n",
       "      <td>2</td>\n",
       "      <td>2</td>\n",
       "      <td>0</td>\n",
       "      <td>5</td>\n",
       "      <td>1</td>\n",
       "      <td>4.804021</td>\n",
       "      <td>65.5</td>\n",
       "      <td>52.4</td>\n",
       "      <td>152</td>\n",
       "      <td>154.0</td>\n",
       "      <td>19</td>\n",
       "      <td>26</td>\n",
       "      <td>16500</td>\n",
       "    </tr>\n",
       "    <tr>\n",
       "      <th>3</th>\n",
       "      <td>1</td>\n",
       "      <td>1</td>\n",
       "      <td>3</td>\n",
       "      <td>1</td>\n",
       "      <td>0</td>\n",
       "      <td>3</td>\n",
       "      <td>2</td>\n",
       "      <td>5.099866</td>\n",
       "      <td>66.2</td>\n",
       "      <td>54.3</td>\n",
       "      <td>109</td>\n",
       "      <td>102.0</td>\n",
       "      <td>24</td>\n",
       "      <td>30</td>\n",
       "      <td>13950</td>\n",
       "    </tr>\n",
       "    <tr>\n",
       "      <th>4</th>\n",
       "      <td>1</td>\n",
       "      <td>1</td>\n",
       "      <td>3</td>\n",
       "      <td>0</td>\n",
       "      <td>0</td>\n",
       "      <td>3</td>\n",
       "      <td>2</td>\n",
       "      <td>5.099866</td>\n",
       "      <td>66.4</td>\n",
       "      <td>54.3</td>\n",
       "      <td>136</td>\n",
       "      <td>115.0</td>\n",
       "      <td>18</td>\n",
       "      <td>22</td>\n",
       "      <td>17450</td>\n",
       "    </tr>\n",
       "  </tbody>\n",
       "</table>\n",
       "</div>"
      ],
      "text/plain": [
       "   make  fuel-type  body-style  drive-wheels  engine-location  engine-type  \\\n",
       "0     0          1           0             2                0            0   \n",
       "1     0          1           0             2                0            0   \n",
       "2     0          1           2             2                0            5   \n",
       "3     1          1           3             1                0            3   \n",
       "4     1          1           3             0                0            3   \n",
       "\n",
       "   symboling  normalized-losses  width  height  engine-size  horsepower  \\\n",
       "0          3           4.804021   64.1    48.8          130       111.0   \n",
       "1          3           4.804021   64.1    48.8          130       111.0   \n",
       "2          1           4.804021   65.5    52.4          152       154.0   \n",
       "3          2           5.099866   66.2    54.3          109       102.0   \n",
       "4          2           5.099866   66.4    54.3          136       115.0   \n",
       "\n",
       "   city-mpg  highway-mpg  price  \n",
       "0        21           27  13495  \n",
       "1        21           27  16500  \n",
       "2        19           26  16500  \n",
       "3        24           30  13950  \n",
       "4        18           22  17450  "
      ]
     },
     "execution_count": 196,
     "metadata": {},
     "output_type": "execute_result"
    }
   ],
   "source": [
    "# To join both dataframe df_cat and df_num in one dataframe df_new\n",
    "\n",
    "df_new = pd.concat([df_cat,df_num],axis=1)\n",
    "df_new.head()"
   ]
  },
  {
   "cell_type": "markdown",
   "id": "2a1e2996",
   "metadata": {},
   "source": [
    " "
   ]
  },
  {
   "cell_type": "markdown",
   "id": "2dd30281",
   "metadata": {},
   "source": [
    "<b><span style=font-size:20px><font color='MediumBlue'><u>Step 5: Feature Engineering</u></font></span></b>\n",
    "\n",
    "<b>1. </b> Means to add new features in existing dataset if required (optional)"
   ]
  },
  {
   "cell_type": "code",
   "execution_count": 197,
   "id": "507d6307",
   "metadata": {},
   "outputs": [
    {
     "data": {
      "text/html": [
       "<div>\n",
       "<style scoped>\n",
       "    .dataframe tbody tr th:only-of-type {\n",
       "        vertical-align: middle;\n",
       "    }\n",
       "\n",
       "    .dataframe tbody tr th {\n",
       "        vertical-align: top;\n",
       "    }\n",
       "\n",
       "    .dataframe thead th {\n",
       "        text-align: right;\n",
       "    }\n",
       "</style>\n",
       "<table border=\"1\" class=\"dataframe\">\n",
       "  <thead>\n",
       "    <tr style=\"text-align: right;\">\n",
       "      <th></th>\n",
       "      <th>make</th>\n",
       "      <th>fuel-type</th>\n",
       "      <th>body-style</th>\n",
       "      <th>drive-wheels</th>\n",
       "      <th>engine-location</th>\n",
       "      <th>engine-type</th>\n",
       "      <th>symboling</th>\n",
       "      <th>normalized-losses</th>\n",
       "      <th>width</th>\n",
       "      <th>height</th>\n",
       "      <th>engine-size</th>\n",
       "      <th>horsepower</th>\n",
       "      <th>city-mpg</th>\n",
       "      <th>highway-mpg</th>\n",
       "      <th>price</th>\n",
       "    </tr>\n",
       "  </thead>\n",
       "  <tbody>\n",
       "    <tr>\n",
       "      <th>0</th>\n",
       "      <td>0</td>\n",
       "      <td>1</td>\n",
       "      <td>0</td>\n",
       "      <td>2</td>\n",
       "      <td>0</td>\n",
       "      <td>0</td>\n",
       "      <td>3</td>\n",
       "      <td>4.804021</td>\n",
       "      <td>64.1</td>\n",
       "      <td>48.8</td>\n",
       "      <td>130</td>\n",
       "      <td>111.0</td>\n",
       "      <td>21</td>\n",
       "      <td>27</td>\n",
       "      <td>13495</td>\n",
       "    </tr>\n",
       "    <tr>\n",
       "      <th>1</th>\n",
       "      <td>0</td>\n",
       "      <td>1</td>\n",
       "      <td>0</td>\n",
       "      <td>2</td>\n",
       "      <td>0</td>\n",
       "      <td>0</td>\n",
       "      <td>3</td>\n",
       "      <td>4.804021</td>\n",
       "      <td>64.1</td>\n",
       "      <td>48.8</td>\n",
       "      <td>130</td>\n",
       "      <td>111.0</td>\n",
       "      <td>21</td>\n",
       "      <td>27</td>\n",
       "      <td>16500</td>\n",
       "    </tr>\n",
       "    <tr>\n",
       "      <th>2</th>\n",
       "      <td>0</td>\n",
       "      <td>1</td>\n",
       "      <td>2</td>\n",
       "      <td>2</td>\n",
       "      <td>0</td>\n",
       "      <td>5</td>\n",
       "      <td>1</td>\n",
       "      <td>4.804021</td>\n",
       "      <td>65.5</td>\n",
       "      <td>52.4</td>\n",
       "      <td>152</td>\n",
       "      <td>154.0</td>\n",
       "      <td>19</td>\n",
       "      <td>26</td>\n",
       "      <td>16500</td>\n",
       "    </tr>\n",
       "    <tr>\n",
       "      <th>3</th>\n",
       "      <td>1</td>\n",
       "      <td>1</td>\n",
       "      <td>3</td>\n",
       "      <td>1</td>\n",
       "      <td>0</td>\n",
       "      <td>3</td>\n",
       "      <td>2</td>\n",
       "      <td>5.099866</td>\n",
       "      <td>66.2</td>\n",
       "      <td>54.3</td>\n",
       "      <td>109</td>\n",
       "      <td>102.0</td>\n",
       "      <td>24</td>\n",
       "      <td>30</td>\n",
       "      <td>13950</td>\n",
       "    </tr>\n",
       "    <tr>\n",
       "      <th>4</th>\n",
       "      <td>1</td>\n",
       "      <td>1</td>\n",
       "      <td>3</td>\n",
       "      <td>0</td>\n",
       "      <td>0</td>\n",
       "      <td>3</td>\n",
       "      <td>2</td>\n",
       "      <td>5.099866</td>\n",
       "      <td>66.4</td>\n",
       "      <td>54.3</td>\n",
       "      <td>136</td>\n",
       "      <td>115.0</td>\n",
       "      <td>18</td>\n",
       "      <td>22</td>\n",
       "      <td>17450</td>\n",
       "    </tr>\n",
       "  </tbody>\n",
       "</table>\n",
       "</div>"
      ],
      "text/plain": [
       "   make  fuel-type  body-style  drive-wheels  engine-location  engine-type  \\\n",
       "0     0          1           0             2                0            0   \n",
       "1     0          1           0             2                0            0   \n",
       "2     0          1           2             2                0            5   \n",
       "3     1          1           3             1                0            3   \n",
       "4     1          1           3             0                0            3   \n",
       "\n",
       "   symboling  normalized-losses  width  height  engine-size  horsepower  \\\n",
       "0          3           4.804021   64.1    48.8          130       111.0   \n",
       "1          3           4.804021   64.1    48.8          130       111.0   \n",
       "2          1           4.804021   65.5    52.4          152       154.0   \n",
       "3          2           5.099866   66.2    54.3          109       102.0   \n",
       "4          2           5.099866   66.4    54.3          136       115.0   \n",
       "\n",
       "   city-mpg  highway-mpg  price  \n",
       "0        21           27  13495  \n",
       "1        21           27  16500  \n",
       "2        19           26  16500  \n",
       "3        24           30  13950  \n",
       "4        18           22  17450  "
      ]
     },
     "execution_count": 197,
     "metadata": {},
     "output_type": "execute_result"
    }
   ],
   "source": [
    "df_new.head()"
   ]
  },
  {
   "cell_type": "markdown",
   "id": "ed0fc9f9",
   "metadata": {},
   "source": [
    " "
   ]
  },
  {
   "cell_type": "markdown",
   "id": "814de102",
   "metadata": {},
   "source": [
    "<b>- </b> <b>Multiplying width</b> and <b>height</b> column and creating <b>new column Area</b>."
   ]
  },
  {
   "cell_type": "code",
   "execution_count": 198,
   "id": "58e28b86",
   "metadata": {
    "scrolled": true
   },
   "outputs": [
    {
     "data": {
      "text/html": [
       "<div>\n",
       "<style scoped>\n",
       "    .dataframe tbody tr th:only-of-type {\n",
       "        vertical-align: middle;\n",
       "    }\n",
       "\n",
       "    .dataframe tbody tr th {\n",
       "        vertical-align: top;\n",
       "    }\n",
       "\n",
       "    .dataframe thead th {\n",
       "        text-align: right;\n",
       "    }\n",
       "</style>\n",
       "<table border=\"1\" class=\"dataframe\">\n",
       "  <thead>\n",
       "    <tr style=\"text-align: right;\">\n",
       "      <th></th>\n",
       "      <th>make</th>\n",
       "      <th>fuel-type</th>\n",
       "      <th>body-style</th>\n",
       "      <th>drive-wheels</th>\n",
       "      <th>engine-location</th>\n",
       "      <th>engine-type</th>\n",
       "      <th>symboling</th>\n",
       "      <th>normalized-losses</th>\n",
       "      <th>width</th>\n",
       "      <th>height</th>\n",
       "      <th>engine-size</th>\n",
       "      <th>horsepower</th>\n",
       "      <th>city-mpg</th>\n",
       "      <th>highway-mpg</th>\n",
       "      <th>price</th>\n",
       "      <th>Area</th>\n",
       "    </tr>\n",
       "  </thead>\n",
       "  <tbody>\n",
       "    <tr>\n",
       "      <th>0</th>\n",
       "      <td>0</td>\n",
       "      <td>1</td>\n",
       "      <td>0</td>\n",
       "      <td>2</td>\n",
       "      <td>0</td>\n",
       "      <td>0</td>\n",
       "      <td>3</td>\n",
       "      <td>4.804021</td>\n",
       "      <td>64.1</td>\n",
       "      <td>48.8</td>\n",
       "      <td>130</td>\n",
       "      <td>111.0</td>\n",
       "      <td>21</td>\n",
       "      <td>27</td>\n",
       "      <td>13495</td>\n",
       "      <td>3128.08</td>\n",
       "    </tr>\n",
       "    <tr>\n",
       "      <th>1</th>\n",
       "      <td>0</td>\n",
       "      <td>1</td>\n",
       "      <td>0</td>\n",
       "      <td>2</td>\n",
       "      <td>0</td>\n",
       "      <td>0</td>\n",
       "      <td>3</td>\n",
       "      <td>4.804021</td>\n",
       "      <td>64.1</td>\n",
       "      <td>48.8</td>\n",
       "      <td>130</td>\n",
       "      <td>111.0</td>\n",
       "      <td>21</td>\n",
       "      <td>27</td>\n",
       "      <td>16500</td>\n",
       "      <td>3128.08</td>\n",
       "    </tr>\n",
       "    <tr>\n",
       "      <th>2</th>\n",
       "      <td>0</td>\n",
       "      <td>1</td>\n",
       "      <td>2</td>\n",
       "      <td>2</td>\n",
       "      <td>0</td>\n",
       "      <td>5</td>\n",
       "      <td>1</td>\n",
       "      <td>4.804021</td>\n",
       "      <td>65.5</td>\n",
       "      <td>52.4</td>\n",
       "      <td>152</td>\n",
       "      <td>154.0</td>\n",
       "      <td>19</td>\n",
       "      <td>26</td>\n",
       "      <td>16500</td>\n",
       "      <td>3432.20</td>\n",
       "    </tr>\n",
       "    <tr>\n",
       "      <th>3</th>\n",
       "      <td>1</td>\n",
       "      <td>1</td>\n",
       "      <td>3</td>\n",
       "      <td>1</td>\n",
       "      <td>0</td>\n",
       "      <td>3</td>\n",
       "      <td>2</td>\n",
       "      <td>5.099866</td>\n",
       "      <td>66.2</td>\n",
       "      <td>54.3</td>\n",
       "      <td>109</td>\n",
       "      <td>102.0</td>\n",
       "      <td>24</td>\n",
       "      <td>30</td>\n",
       "      <td>13950</td>\n",
       "      <td>3594.66</td>\n",
       "    </tr>\n",
       "    <tr>\n",
       "      <th>4</th>\n",
       "      <td>1</td>\n",
       "      <td>1</td>\n",
       "      <td>3</td>\n",
       "      <td>0</td>\n",
       "      <td>0</td>\n",
       "      <td>3</td>\n",
       "      <td>2</td>\n",
       "      <td>5.099866</td>\n",
       "      <td>66.4</td>\n",
       "      <td>54.3</td>\n",
       "      <td>136</td>\n",
       "      <td>115.0</td>\n",
       "      <td>18</td>\n",
       "      <td>22</td>\n",
       "      <td>17450</td>\n",
       "      <td>3605.52</td>\n",
       "    </tr>\n",
       "  </tbody>\n",
       "</table>\n",
       "</div>"
      ],
      "text/plain": [
       "   make  fuel-type  body-style  drive-wheels  engine-location  engine-type  \\\n",
       "0     0          1           0             2                0            0   \n",
       "1     0          1           0             2                0            0   \n",
       "2     0          1           2             2                0            5   \n",
       "3     1          1           3             1                0            3   \n",
       "4     1          1           3             0                0            3   \n",
       "\n",
       "   symboling  normalized-losses  width  height  engine-size  horsepower  \\\n",
       "0          3           4.804021   64.1    48.8          130       111.0   \n",
       "1          3           4.804021   64.1    48.8          130       111.0   \n",
       "2          1           4.804021   65.5    52.4          152       154.0   \n",
       "3          2           5.099866   66.2    54.3          109       102.0   \n",
       "4          2           5.099866   66.4    54.3          136       115.0   \n",
       "\n",
       "   city-mpg  highway-mpg  price     Area  \n",
       "0        21           27  13495  3128.08  \n",
       "1        21           27  16500  3128.08  \n",
       "2        19           26  16500  3432.20  \n",
       "3        24           30  13950  3594.66  \n",
       "4        18           22  17450  3605.52  "
      ]
     },
     "execution_count": 198,
     "metadata": {},
     "output_type": "execute_result"
    }
   ],
   "source": [
    "df_new['Area'] = df_new['width'] * df_new['height']\n",
    "df_new.head()"
   ]
  },
  {
   "cell_type": "markdown",
   "id": "bddfdda8",
   "metadata": {},
   "source": [
    " "
   ]
  },
  {
   "cell_type": "code",
   "execution_count": 199,
   "id": "e4d09049",
   "metadata": {},
   "outputs": [],
   "source": [
    "df_new.drop(['width','height'],axis=1,inplace=True)"
   ]
  },
  {
   "cell_type": "markdown",
   "id": "118d9aaf",
   "metadata": {},
   "source": [
    " "
   ]
  },
  {
   "cell_type": "code",
   "execution_count": 200,
   "id": "6b461635",
   "metadata": {
    "scrolled": true
   },
   "outputs": [
    {
     "data": {
      "text/html": [
       "<div>\n",
       "<style scoped>\n",
       "    .dataframe tbody tr th:only-of-type {\n",
       "        vertical-align: middle;\n",
       "    }\n",
       "\n",
       "    .dataframe tbody tr th {\n",
       "        vertical-align: top;\n",
       "    }\n",
       "\n",
       "    .dataframe thead th {\n",
       "        text-align: right;\n",
       "    }\n",
       "</style>\n",
       "<table border=\"1\" class=\"dataframe\">\n",
       "  <thead>\n",
       "    <tr style=\"text-align: right;\">\n",
       "      <th></th>\n",
       "      <th>make</th>\n",
       "      <th>fuel-type</th>\n",
       "      <th>body-style</th>\n",
       "      <th>drive-wheels</th>\n",
       "      <th>engine-location</th>\n",
       "      <th>engine-type</th>\n",
       "      <th>symboling</th>\n",
       "      <th>normalized-losses</th>\n",
       "      <th>engine-size</th>\n",
       "      <th>horsepower</th>\n",
       "      <th>city-mpg</th>\n",
       "      <th>highway-mpg</th>\n",
       "      <th>price</th>\n",
       "      <th>Area</th>\n",
       "    </tr>\n",
       "  </thead>\n",
       "  <tbody>\n",
       "    <tr>\n",
       "      <th>0</th>\n",
       "      <td>0</td>\n",
       "      <td>1</td>\n",
       "      <td>0</td>\n",
       "      <td>2</td>\n",
       "      <td>0</td>\n",
       "      <td>0</td>\n",
       "      <td>3</td>\n",
       "      <td>4.804021</td>\n",
       "      <td>130</td>\n",
       "      <td>111.0</td>\n",
       "      <td>21</td>\n",
       "      <td>27</td>\n",
       "      <td>13495</td>\n",
       "      <td>3128.08</td>\n",
       "    </tr>\n",
       "    <tr>\n",
       "      <th>1</th>\n",
       "      <td>0</td>\n",
       "      <td>1</td>\n",
       "      <td>0</td>\n",
       "      <td>2</td>\n",
       "      <td>0</td>\n",
       "      <td>0</td>\n",
       "      <td>3</td>\n",
       "      <td>4.804021</td>\n",
       "      <td>130</td>\n",
       "      <td>111.0</td>\n",
       "      <td>21</td>\n",
       "      <td>27</td>\n",
       "      <td>16500</td>\n",
       "      <td>3128.08</td>\n",
       "    </tr>\n",
       "    <tr>\n",
       "      <th>2</th>\n",
       "      <td>0</td>\n",
       "      <td>1</td>\n",
       "      <td>2</td>\n",
       "      <td>2</td>\n",
       "      <td>0</td>\n",
       "      <td>5</td>\n",
       "      <td>1</td>\n",
       "      <td>4.804021</td>\n",
       "      <td>152</td>\n",
       "      <td>154.0</td>\n",
       "      <td>19</td>\n",
       "      <td>26</td>\n",
       "      <td>16500</td>\n",
       "      <td>3432.20</td>\n",
       "    </tr>\n",
       "    <tr>\n",
       "      <th>3</th>\n",
       "      <td>1</td>\n",
       "      <td>1</td>\n",
       "      <td>3</td>\n",
       "      <td>1</td>\n",
       "      <td>0</td>\n",
       "      <td>3</td>\n",
       "      <td>2</td>\n",
       "      <td>5.099866</td>\n",
       "      <td>109</td>\n",
       "      <td>102.0</td>\n",
       "      <td>24</td>\n",
       "      <td>30</td>\n",
       "      <td>13950</td>\n",
       "      <td>3594.66</td>\n",
       "    </tr>\n",
       "    <tr>\n",
       "      <th>4</th>\n",
       "      <td>1</td>\n",
       "      <td>1</td>\n",
       "      <td>3</td>\n",
       "      <td>0</td>\n",
       "      <td>0</td>\n",
       "      <td>3</td>\n",
       "      <td>2</td>\n",
       "      <td>5.099866</td>\n",
       "      <td>136</td>\n",
       "      <td>115.0</td>\n",
       "      <td>18</td>\n",
       "      <td>22</td>\n",
       "      <td>17450</td>\n",
       "      <td>3605.52</td>\n",
       "    </tr>\n",
       "  </tbody>\n",
       "</table>\n",
       "</div>"
      ],
      "text/plain": [
       "   make  fuel-type  body-style  drive-wheels  engine-location  engine-type  \\\n",
       "0     0          1           0             2                0            0   \n",
       "1     0          1           0             2                0            0   \n",
       "2     0          1           2             2                0            5   \n",
       "3     1          1           3             1                0            3   \n",
       "4     1          1           3             0                0            3   \n",
       "\n",
       "   symboling  normalized-losses  engine-size  horsepower  city-mpg  \\\n",
       "0          3           4.804021          130       111.0        21   \n",
       "1          3           4.804021          130       111.0        21   \n",
       "2          1           4.804021          152       154.0        19   \n",
       "3          2           5.099866          109       102.0        24   \n",
       "4          2           5.099866          136       115.0        18   \n",
       "\n",
       "   highway-mpg  price     Area  \n",
       "0           27  13495  3128.08  \n",
       "1           27  16500  3128.08  \n",
       "2           26  16500  3432.20  \n",
       "3           30  13950  3594.66  \n",
       "4           22  17450  3605.52  "
      ]
     },
     "execution_count": 200,
     "metadata": {},
     "output_type": "execute_result"
    }
   ],
   "source": [
    "df_new.head()"
   ]
  },
  {
   "cell_type": "markdown",
   "id": "5354b287",
   "metadata": {},
   "source": [
    " "
   ]
  },
  {
   "cell_type": "markdown",
   "id": "bfbafe07",
   "metadata": {},
   "source": [
    "<b><span style=font-size:20px><font color='MediumBlue'><u>Step 6: Scaling</u></font></span></b><br>"
   ]
  },
  {
   "cell_type": "code",
   "execution_count": 201,
   "id": "e67be676",
   "metadata": {
    "scrolled": true
   },
   "outputs": [
    {
     "data": {
      "text/plain": [
       "Index(['make', 'fuel-type', 'body-style', 'drive-wheels', 'engine-location',\n",
       "       'engine-type', 'symboling', 'normalized-losses', 'engine-size',\n",
       "       'horsepower', 'city-mpg', 'highway-mpg', 'price', 'Area'],\n",
       "      dtype='object')"
      ]
     },
     "execution_count": 201,
     "metadata": {},
     "output_type": "execute_result"
    }
   ],
   "source": [
    "df_new.columns"
   ]
  },
  {
   "cell_type": "markdown",
   "id": "0bbf9d2c",
   "metadata": {},
   "source": [
    " "
   ]
  },
  {
   "cell_type": "code",
   "execution_count": 202,
   "id": "df51b1e2",
   "metadata": {
    "scrolled": true
   },
   "outputs": [
    {
     "data": {
      "text/html": [
       "<div>\n",
       "<style scoped>\n",
       "    .dataframe tbody tr th:only-of-type {\n",
       "        vertical-align: middle;\n",
       "    }\n",
       "\n",
       "    .dataframe tbody tr th {\n",
       "        vertical-align: top;\n",
       "    }\n",
       "\n",
       "    .dataframe thead th {\n",
       "        text-align: right;\n",
       "    }\n",
       "</style>\n",
       "<table border=\"1\" class=\"dataframe\">\n",
       "  <thead>\n",
       "    <tr style=\"text-align: right;\">\n",
       "      <th></th>\n",
       "      <th>make</th>\n",
       "      <th>fuel-type</th>\n",
       "      <th>body-style</th>\n",
       "      <th>drive-wheels</th>\n",
       "      <th>engine-location</th>\n",
       "      <th>engine-type</th>\n",
       "      <th>symboling</th>\n",
       "      <th>normalized-losses</th>\n",
       "      <th>engine-size</th>\n",
       "      <th>horsepower</th>\n",
       "      <th>city-mpg</th>\n",
       "      <th>highway-mpg</th>\n",
       "      <th>Area</th>\n",
       "    </tr>\n",
       "  </thead>\n",
       "  <tbody>\n",
       "    <tr>\n",
       "      <th>0</th>\n",
       "      <td>0</td>\n",
       "      <td>1</td>\n",
       "      <td>0</td>\n",
       "      <td>2</td>\n",
       "      <td>0</td>\n",
       "      <td>0</td>\n",
       "      <td>3</td>\n",
       "      <td>4.804021</td>\n",
       "      <td>130</td>\n",
       "      <td>111.0</td>\n",
       "      <td>21</td>\n",
       "      <td>27</td>\n",
       "      <td>3128.08</td>\n",
       "    </tr>\n",
       "    <tr>\n",
       "      <th>1</th>\n",
       "      <td>0</td>\n",
       "      <td>1</td>\n",
       "      <td>0</td>\n",
       "      <td>2</td>\n",
       "      <td>0</td>\n",
       "      <td>0</td>\n",
       "      <td>3</td>\n",
       "      <td>4.804021</td>\n",
       "      <td>130</td>\n",
       "      <td>111.0</td>\n",
       "      <td>21</td>\n",
       "      <td>27</td>\n",
       "      <td>3128.08</td>\n",
       "    </tr>\n",
       "    <tr>\n",
       "      <th>2</th>\n",
       "      <td>0</td>\n",
       "      <td>1</td>\n",
       "      <td>2</td>\n",
       "      <td>2</td>\n",
       "      <td>0</td>\n",
       "      <td>5</td>\n",
       "      <td>1</td>\n",
       "      <td>4.804021</td>\n",
       "      <td>152</td>\n",
       "      <td>154.0</td>\n",
       "      <td>19</td>\n",
       "      <td>26</td>\n",
       "      <td>3432.20</td>\n",
       "    </tr>\n",
       "    <tr>\n",
       "      <th>3</th>\n",
       "      <td>1</td>\n",
       "      <td>1</td>\n",
       "      <td>3</td>\n",
       "      <td>1</td>\n",
       "      <td>0</td>\n",
       "      <td>3</td>\n",
       "      <td>2</td>\n",
       "      <td>5.099866</td>\n",
       "      <td>109</td>\n",
       "      <td>102.0</td>\n",
       "      <td>24</td>\n",
       "      <td>30</td>\n",
       "      <td>3594.66</td>\n",
       "    </tr>\n",
       "    <tr>\n",
       "      <th>4</th>\n",
       "      <td>1</td>\n",
       "      <td>1</td>\n",
       "      <td>3</td>\n",
       "      <td>0</td>\n",
       "      <td>0</td>\n",
       "      <td>3</td>\n",
       "      <td>2</td>\n",
       "      <td>5.099866</td>\n",
       "      <td>136</td>\n",
       "      <td>115.0</td>\n",
       "      <td>18</td>\n",
       "      <td>22</td>\n",
       "      <td>3605.52</td>\n",
       "    </tr>\n",
       "  </tbody>\n",
       "</table>\n",
       "</div>"
      ],
      "text/plain": [
       "   make  fuel-type  body-style  drive-wheels  engine-location  engine-type  \\\n",
       "0     0          1           0             2                0            0   \n",
       "1     0          1           0             2                0            0   \n",
       "2     0          1           2             2                0            5   \n",
       "3     1          1           3             1                0            3   \n",
       "4     1          1           3             0                0            3   \n",
       "\n",
       "   symboling  normalized-losses  engine-size  horsepower  city-mpg  \\\n",
       "0          3           4.804021          130       111.0        21   \n",
       "1          3           4.804021          130       111.0        21   \n",
       "2          1           4.804021          152       154.0        19   \n",
       "3          2           5.099866          109       102.0        24   \n",
       "4          2           5.099866          136       115.0        18   \n",
       "\n",
       "   highway-mpg     Area  \n",
       "0           27  3128.08  \n",
       "1           27  3128.08  \n",
       "2           26  3432.20  \n",
       "3           30  3594.66  \n",
       "4           22  3605.52  "
      ]
     },
     "execution_count": 202,
     "metadata": {},
     "output_type": "execute_result"
    }
   ],
   "source": [
    "X = df_new.drop('price',axis=1)\n",
    "X.head()"
   ]
  },
  {
   "cell_type": "markdown",
   "id": "a043192f",
   "metadata": {},
   "source": [
    " "
   ]
  },
  {
   "cell_type": "code",
   "execution_count": 203,
   "id": "eb0c039e",
   "metadata": {},
   "outputs": [],
   "source": [
    "from sklearn.preprocessing import StandardScaler"
   ]
  },
  {
   "cell_type": "markdown",
   "id": "e17f0a30",
   "metadata": {},
   "source": [
    " "
   ]
  },
  {
   "cell_type": "code",
   "execution_count": 204,
   "id": "8c318e97",
   "metadata": {},
   "outputs": [],
   "source": [
    "ss = StandardScaler()"
   ]
  },
  {
   "cell_type": "markdown",
   "id": "06eadb7e",
   "metadata": {},
   "source": [
    " "
   ]
  },
  {
   "cell_type": "code",
   "execution_count": 205,
   "id": "5b841d1c",
   "metadata": {},
   "outputs": [
    {
     "name": "stdout",
     "output_type": "stream",
     "text": [
      "[[-1.93400671  0.33903175 -3.11163379 ... -0.67576177 -0.58047414\n",
      "  -1.85157709]\n",
      " [-1.93400671  0.33903175 -3.11163379 ... -0.67576177 -0.58047414\n",
      "  -1.85157709]\n",
      " [-1.93400671  0.33903175 -0.74898426 ... -0.982065   -0.72615588\n",
      "  -0.51074029]\n",
      " ...\n",
      " [ 1.413123    0.33903175  0.43234051 ... -1.13521662 -1.16320109\n",
      "   1.21644904]\n",
      " [ 1.413123   -2.94957624  0.43234051 ...  0.08999631 -0.58047414\n",
      "   1.21644904]\n",
      " [ 1.413123    0.33903175  0.43234051 ... -0.982065   -0.87183761\n",
      "   1.21644904]]\n"
     ]
    }
   ],
   "source": [
    "X = ss.fit_transform(X)\n",
    "print(X)"
   ]
  },
  {
   "cell_type": "markdown",
   "id": "4abe1072",
   "metadata": {},
   "source": [
    " "
   ]
  }
 ],
 "metadata": {
  "kernelspec": {
   "display_name": "Python 3 (ipykernel)",
   "language": "python",
   "name": "python3"
  },
  "language_info": {
   "codemirror_mode": {
    "name": "ipython",
    "version": 3
   },
   "file_extension": ".py",
   "mimetype": "text/x-python",
   "name": "python",
   "nbconvert_exporter": "python",
   "pygments_lexer": "ipython3",
   "version": "3.9.7"
  }
 },
 "nbformat": 4,
 "nbformat_minor": 5
}
